{
 "cells": [
  {
   "cell_type": "markdown",
   "source": [
    "# Karol Kula projekt 1"
   ],
   "metadata": {
    "collapsed": false
   },
   "id": "12ace0cc4aa396ee"
  },
  {
   "cell_type": "markdown",
   "source": [
    "## import bibliotek, załadowanie danych. Miasta na \"K\" nie było, więc wybrałem New Jersey"
   ],
   "metadata": {
    "collapsed": false
   },
   "id": "c400610fe4c62488"
  },
  {
   "cell_type": "code",
   "execution_count": 1,
   "id": "initial_id",
   "metadata": {
    "collapsed": true,
    "ExecuteTime": {
     "end_time": "2023-12-17T23:15:00.115907400Z",
     "start_time": "2023-12-17T23:14:58.908701800Z"
    }
   },
   "outputs": [],
   "source": [
    "import pandas as pd\n",
    "import numpy as np\n",
    "import matplotlib.pyplot as plt\n",
    "import seaborn as sns\n",
    "\n",
    "data = pd.read_csv(\"http://data.insideairbnb.com/united-states/nj/jersey-city/2023-09-18/data/listings.csv.gz\")\n"
   ]
  },
  {
   "cell_type": "markdown",
   "source": [
    "# Wyświewtlenie 5 przykładówych wierszy, w celu zorientowania się co sie tu dzieje"
   ],
   "metadata": {
    "collapsed": false
   },
   "id": "cdcaa8cfba9fddf6"
  },
  {
   "cell_type": "code",
   "execution_count": 2,
   "outputs": [
    {
     "data": {
      "text/plain": "       id                          listing_url       scrape_id last_scraped  \\\n0   40669   https://www.airbnb.com/rooms/40669  20230918050414   2023-09-18   \n1  215768  https://www.airbnb.com/rooms/215768  20230918050414   2023-09-18   \n2  254245  https://www.airbnb.com/rooms/254245  20230918050414   2023-09-18   \n3  269266  https://www.airbnb.com/rooms/269266  20230918050414   2023-09-18   \n4  270245  https://www.airbnb.com/rooms/270245  20230918050414   2023-09-18   \n\n        source                                               name  \\\n0  city scrape  Condo in Jersey City · ★5.0 · 1 bedroom · 1 be...   \n1  city scrape  Home in Jersey City · ★4.77 · 1 bedroom · 2 be...   \n2  city scrape  Home in Jersey City · ★4.76 · 1 bedroom · 1 be...   \n3  city scrape  Rental unit in Jersey City · ★4.36 · 2 bedroom...   \n4  city scrape  Townhouse in Jersey City · ★4.55 · 1 bedroom ·...   \n\n                                         description  \\\n0  <b>The space</b><br />Skyy’s Lounge ....Everyt...   \n1  Walking to distance to Statue of Liberty and E...   \n2  Walking to distance to Statue of Liberty and E...   \n3  Enjoy that private luxury two bedrooms apartme...   \n4  Just for you small bedroom with private bathro...   \n\n                               neighborhood_overview  \\\n0  The neighborhood is very diverse & friendly sh...   \n1  Such close proximity to NYC, 7 minutes on the ...   \n2  Such close proximity to NYC, 7 minutes on the ...   \n3  Our House is located in the Liberty State Park...   \n4                                                NaN   \n\n                                         picture_url  host_id  ...  \\\n0  https://a0.muscache.com/pictures/af7e4a45-0118...   175412  ...   \n1  https://a0.muscache.com/pictures/miso/Hosting-...   846837  ...   \n2  https://a0.muscache.com/pictures/miso/Hosting-...   846837  ...   \n3  https://a0.muscache.com/pictures/miso/Hosting-...  1410590  ...   \n4  https://a0.muscache.com/pictures/miso/Hosting-...  1410590  ...   \n\n  review_scores_communication review_scores_location review_scores_value  \\\n0                        5.00                   5.00                5.00   \n1                        4.87                   4.32                4.79   \n2                        4.83                   4.32                4.74   \n3                        4.66                   3.85                4.46   \n4                        4.71                   3.99                4.59   \n\n       license instant_bookable calculated_host_listings_count  \\\n0          NaN                f                              1   \n1  STR20-00055                f                              2   \n2  STR20-00055                f                              2   \n3          NaN                t                             11   \n4          NaN                t                             11   \n\n  calculated_host_listings_count_entire_homes  \\\n0                                           0   \n1                                           2   \n2                                           2   \n3                                           1   \n4                                           1   \n\n  calculated_host_listings_count_private_rooms  \\\n0                                            1   \n1                                            0   \n2                                            0   \n3                                           10   \n4                                           10   \n\n  calculated_host_listings_count_shared_rooms reviews_per_month  \n0                                           0              0.07  \n1                                           0              1.17  \n2                                           0              0.88  \n3                                           0              2.91  \n4                                           0              2.07  \n\n[5 rows x 75 columns]",
      "text/html": "<div>\n<style scoped>\n    .dataframe tbody tr th:only-of-type {\n        vertical-align: middle;\n    }\n\n    .dataframe tbody tr th {\n        vertical-align: top;\n    }\n\n    .dataframe thead th {\n        text-align: right;\n    }\n</style>\n<table border=\"1\" class=\"dataframe\">\n  <thead>\n    <tr style=\"text-align: right;\">\n      <th></th>\n      <th>id</th>\n      <th>listing_url</th>\n      <th>scrape_id</th>\n      <th>last_scraped</th>\n      <th>source</th>\n      <th>name</th>\n      <th>description</th>\n      <th>neighborhood_overview</th>\n      <th>picture_url</th>\n      <th>host_id</th>\n      <th>...</th>\n      <th>review_scores_communication</th>\n      <th>review_scores_location</th>\n      <th>review_scores_value</th>\n      <th>license</th>\n      <th>instant_bookable</th>\n      <th>calculated_host_listings_count</th>\n      <th>calculated_host_listings_count_entire_homes</th>\n      <th>calculated_host_listings_count_private_rooms</th>\n      <th>calculated_host_listings_count_shared_rooms</th>\n      <th>reviews_per_month</th>\n    </tr>\n  </thead>\n  <tbody>\n    <tr>\n      <th>0</th>\n      <td>40669</td>\n      <td>https://www.airbnb.com/rooms/40669</td>\n      <td>20230918050414</td>\n      <td>2023-09-18</td>\n      <td>city scrape</td>\n      <td>Condo in Jersey City · ★5.0 · 1 bedroom · 1 be...</td>\n      <td>&lt;b&gt;The space&lt;/b&gt;&lt;br /&gt;Skyy’s Lounge ....Everyt...</td>\n      <td>The neighborhood is very diverse &amp; friendly sh...</td>\n      <td>https://a0.muscache.com/pictures/af7e4a45-0118...</td>\n      <td>175412</td>\n      <td>...</td>\n      <td>5.00</td>\n      <td>5.00</td>\n      <td>5.00</td>\n      <td>NaN</td>\n      <td>f</td>\n      <td>1</td>\n      <td>0</td>\n      <td>1</td>\n      <td>0</td>\n      <td>0.07</td>\n    </tr>\n    <tr>\n      <th>1</th>\n      <td>215768</td>\n      <td>https://www.airbnb.com/rooms/215768</td>\n      <td>20230918050414</td>\n      <td>2023-09-18</td>\n      <td>city scrape</td>\n      <td>Home in Jersey City · ★4.77 · 1 bedroom · 2 be...</td>\n      <td>Walking to distance to Statue of Liberty and E...</td>\n      <td>Such close proximity to NYC, 7 minutes on the ...</td>\n      <td>https://a0.muscache.com/pictures/miso/Hosting-...</td>\n      <td>846837</td>\n      <td>...</td>\n      <td>4.87</td>\n      <td>4.32</td>\n      <td>4.79</td>\n      <td>STR20-00055</td>\n      <td>f</td>\n      <td>2</td>\n      <td>2</td>\n      <td>0</td>\n      <td>0</td>\n      <td>1.17</td>\n    </tr>\n    <tr>\n      <th>2</th>\n      <td>254245</td>\n      <td>https://www.airbnb.com/rooms/254245</td>\n      <td>20230918050414</td>\n      <td>2023-09-18</td>\n      <td>city scrape</td>\n      <td>Home in Jersey City · ★4.76 · 1 bedroom · 1 be...</td>\n      <td>Walking to distance to Statue of Liberty and E...</td>\n      <td>Such close proximity to NYC, 7 minutes on the ...</td>\n      <td>https://a0.muscache.com/pictures/miso/Hosting-...</td>\n      <td>846837</td>\n      <td>...</td>\n      <td>4.83</td>\n      <td>4.32</td>\n      <td>4.74</td>\n      <td>STR20-00055</td>\n      <td>f</td>\n      <td>2</td>\n      <td>2</td>\n      <td>0</td>\n      <td>0</td>\n      <td>0.88</td>\n    </tr>\n    <tr>\n      <th>3</th>\n      <td>269266</td>\n      <td>https://www.airbnb.com/rooms/269266</td>\n      <td>20230918050414</td>\n      <td>2023-09-18</td>\n      <td>city scrape</td>\n      <td>Rental unit in Jersey City · ★4.36 · 2 bedroom...</td>\n      <td>Enjoy that private luxury two bedrooms apartme...</td>\n      <td>Our House is located in the Liberty State Park...</td>\n      <td>https://a0.muscache.com/pictures/miso/Hosting-...</td>\n      <td>1410590</td>\n      <td>...</td>\n      <td>4.66</td>\n      <td>3.85</td>\n      <td>4.46</td>\n      <td>NaN</td>\n      <td>t</td>\n      <td>11</td>\n      <td>1</td>\n      <td>10</td>\n      <td>0</td>\n      <td>2.91</td>\n    </tr>\n    <tr>\n      <th>4</th>\n      <td>270245</td>\n      <td>https://www.airbnb.com/rooms/270245</td>\n      <td>20230918050414</td>\n      <td>2023-09-18</td>\n      <td>city scrape</td>\n      <td>Townhouse in Jersey City · ★4.55 · 1 bedroom ·...</td>\n      <td>Just for you small bedroom with private bathro...</td>\n      <td>NaN</td>\n      <td>https://a0.muscache.com/pictures/miso/Hosting-...</td>\n      <td>1410590</td>\n      <td>...</td>\n      <td>4.71</td>\n      <td>3.99</td>\n      <td>4.59</td>\n      <td>NaN</td>\n      <td>t</td>\n      <td>11</td>\n      <td>1</td>\n      <td>10</td>\n      <td>0</td>\n      <td>2.07</td>\n    </tr>\n  </tbody>\n</table>\n<p>5 rows × 75 columns</p>\n</div>"
     },
     "execution_count": 2,
     "metadata": {},
     "output_type": "execute_result"
    }
   ],
   "source": [
    "data.head()"
   ],
   "metadata": {
    "collapsed": false,
    "ExecuteTime": {
     "end_time": "2023-12-17T23:15:00.127728600Z",
     "start_time": "2023-12-17T23:15:00.116914400Z"
    }
   },
   "id": "191be8e685e42909"
  },
  {
   "cell_type": "markdown",
   "source": [],
   "metadata": {
    "collapsed": false
   },
   "id": "40451a2e98b5a933"
  },
  {
   "cell_type": "markdown",
   "source": [
    "# Wyświetlenie wszystkich danych"
   ],
   "metadata": {
    "collapsed": false
   },
   "id": "721753a00b5a37a2"
  },
  {
   "cell_type": "code",
   "execution_count": 3,
   "outputs": [
    {
     "data": {
      "text/plain": "                      id                                      listing_url  \\\n0                  40669               https://www.airbnb.com/rooms/40669   \n1                 215768              https://www.airbnb.com/rooms/215768   \n2                 254245              https://www.airbnb.com/rooms/254245   \n3                 269266              https://www.airbnb.com/rooms/269266   \n4                 270245              https://www.airbnb.com/rooms/270245   \n...                  ...                                              ...   \n1319  980482250747395799  https://www.airbnb.com/rooms/980482250747395799   \n1320  981050569727129557  https://www.airbnb.com/rooms/981050569727129557   \n1321  981716811722485393  https://www.airbnb.com/rooms/981716811722485393   \n1322  981829528456499146  https://www.airbnb.com/rooms/981829528456499146   \n1323  982161671070648813  https://www.airbnb.com/rooms/982161671070648813   \n\n           scrape_id last_scraped       source  \\\n0     20230918050414   2023-09-18  city scrape   \n1     20230918050414   2023-09-18  city scrape   \n2     20230918050414   2023-09-18  city scrape   \n3     20230918050414   2023-09-18  city scrape   \n4     20230918050414   2023-09-18  city scrape   \n...              ...          ...          ...   \n1319  20230918050414   2023-09-18  city scrape   \n1320  20230918050414   2023-09-18  city scrape   \n1321  20230918050414   2023-09-18  city scrape   \n1322  20230918050414   2023-09-18  city scrape   \n1323  20230918050414   2023-09-18  city scrape   \n\n                                                   name  \\\n0     Condo in Jersey City · ★5.0 · 1 bedroom · 1 be...   \n1     Home in Jersey City · ★4.77 · 1 bedroom · 2 be...   \n2     Home in Jersey City · ★4.76 · 1 bedroom · 1 be...   \n3     Rental unit in Jersey City · ★4.36 · 2 bedroom...   \n4     Townhouse in Jersey City · ★4.55 · 1 bedroom ·...   \n...                                                 ...   \n1319  Rental unit in Jersey City · ★New · 1 bedroom ...   \n1320  Rental unit in Jersey City · ★New · 1 bedroom ...   \n1321  Rental unit in Jersey City · ★New · 1 bedroom ...   \n1322  Home in Bayonne · ★New · 1 bedroom · 1 bed · 1...   \n1323  Home in Jersey City · ★New · 3 bedrooms · 3 be...   \n\n                                            description  \\\n0     <b>The space</b><br />Skyy’s Lounge ....Everyt...   \n1     Walking to distance to Statue of Liberty and E...   \n2     Walking to distance to Statue of Liberty and E...   \n3     Enjoy that private luxury two bedrooms apartme...   \n4     Just for you small bedroom with private bathro...   \n...                                                 ...   \n1319  Safe location, charming place , 2-3 min walkin...   \n1320  Welcome to our inviting shared bedroom at Jers...   \n1321         This unique place has a style all its own.   \n1322  The room has an excellent location, it is a qu...   \n1323  Lleva a toda la familia a este fantástico luga...   \n\n                                  neighborhood_overview  \\\n0     The neighborhood is very diverse & friendly sh...   \n1     Such close proximity to NYC, 7 minutes on the ...   \n2     Such close proximity to NYC, 7 minutes on the ...   \n3     Our House is located in the Liberty State Park...   \n4                                                   NaN   \n...                                                 ...   \n1319                                                NaN   \n1320  Our apartment is strategically located, making...   \n1321                                                NaN   \n1322                                                NaN   \n1323                                                NaN   \n\n                                            picture_url    host_id  \\\n0     https://a0.muscache.com/pictures/af7e4a45-0118...     175412   \n1     https://a0.muscache.com/pictures/miso/Hosting-...     846837   \n2     https://a0.muscache.com/pictures/miso/Hosting-...     846837   \n3     https://a0.muscache.com/pictures/miso/Hosting-...    1410590   \n4     https://a0.muscache.com/pictures/miso/Hosting-...    1410590   \n...                                                 ...        ...   \n1319  https://a0.muscache.com/pictures/hosting/Hosti...  536701303   \n1320  https://a0.muscache.com/pictures/miso/Hosting-...  513781380   \n1321  https://a0.muscache.com/pictures/75b1cfdc-3b1d...   98240103   \n1322  https://a0.muscache.com/pictures/hosting/Hosti...  333174348   \n1323  https://a0.muscache.com/pictures/hosting/Hosti...  537476710   \n\n                                         host_url  host_name  host_since  \\\n0        https://www.airbnb.com/users/show/175412       Skyy  2010-07-20   \n1        https://www.airbnb.com/users/show/846837  Charlaine  2011-07-20   \n2        https://www.airbnb.com/users/show/846837  Charlaine  2011-07-20   \n3       https://www.airbnb.com/users/show/1410590      Magda  2011-11-15   \n4       https://www.airbnb.com/users/show/1410590      Magda  2011-11-15   \n...                                           ...        ...         ...   \n1319  https://www.airbnb.com/users/show/536701303      Fares  2023-09-11   \n1320  https://www.airbnb.com/users/show/513781380         Jc  2023-05-08   \n1321   https://www.airbnb.com/users/show/98240103      Julio  2016-10-05   \n1322  https://www.airbnb.com/users/show/333174348    Winston  2020-02-03   \n1323  https://www.airbnb.com/users/show/537476710     Jose A  2023-09-16   \n\n        host_location                                         host_about  \\\n0     Jersey City, NJ  I am the owner of a high end Nail Salon in the...   \n1     Jersey City, NJ  Thank you for taking the time to learn a bit a...   \n2     Jersey City, NJ  Thank you for taking the time to learn a bit a...   \n3     Jersey City, NJ  I am living in New York City area  for several...   \n4     Jersey City, NJ  I am living in New York City area  for several...   \n...               ...                                                ...   \n1319              NaN                                                NaN   \n1320  Jersey City, NJ  JC Livin is a small business that specializes ...   \n1321  Jersey City, NJ  My Name is Julio Gallardo and I am married to ...   \n1322              NaN                                                NaN   \n1323  Jersey City, NJ                                                NaN   \n\n     host_response_time host_response_rate host_acceptance_rate  \\\n0          within a day                71%                  60%   \n1        within an hour               100%                  99%   \n2        within an hour               100%                  99%   \n3        within an hour               100%                 100%   \n4        within an hour               100%                 100%   \n...                 ...                ...                  ...   \n1319                NaN                NaN                 100%   \n1320     within an hour               100%                  96%   \n1321     within an hour               100%                  99%   \n1322                NaN                NaN                  NaN   \n1323                NaN                NaN                  NaN   \n\n     host_is_superhost                                 host_thumbnail_url  \\\n0                    f  https://a0.muscache.com/im/users/175412/profil...   \n1                    t  https://a0.muscache.com/im/pictures/user/User-...   \n2                    t  https://a0.muscache.com/im/pictures/user/User-...   \n3                    f  https://a0.muscache.com/im/users/1410590/profi...   \n4                    f  https://a0.muscache.com/im/users/1410590/profi...   \n...                ...                                                ...   \n1319                 f  https://a0.muscache.com/im/pictures/user/User-...   \n1320                 f  https://a0.muscache.com/im/pictures/user/User-...   \n1321                 f  https://a0.muscache.com/im/pictures/user/1918a...   \n1322                 f  https://a0.muscache.com/im/pictures/user/ce737...   \n1323                 f  https://a0.muscache.com/im/pictures/user/User-...   \n\n                                       host_picture_url    host_neighbourhood  \\\n0     https://a0.muscache.com/im/users/175412/profil...                   NaN   \n1     https://a0.muscache.com/im/pictures/user/User-...                   NaN   \n2     https://a0.muscache.com/im/pictures/user/User-...                   NaN   \n3     https://a0.muscache.com/im/users/1410590/profi...      Bergen-Lafayette   \n4     https://a0.muscache.com/im/users/1410590/profi...      Bergen-Lafayette   \n...                                                 ...                   ...   \n1319  https://a0.muscache.com/im/pictures/user/User-...  Downtown Jersey City   \n1320  https://a0.muscache.com/im/pictures/user/User-...      Bergen-Lafayette   \n1321  https://a0.muscache.com/im/pictures/user/1918a...           The Heights   \n1322  https://a0.muscache.com/im/pictures/user/ce737...            Greenville   \n1323  https://a0.muscache.com/im/pictures/user/User-...             West Side   \n\n      host_listings_count  host_total_listings_count  host_verifications  \\\n0                       1                          4  ['email', 'phone']   \n1                       2                          4  ['email', 'phone']   \n2                       2                          4  ['email', 'phone']   \n3                      11                         18  ['email', 'phone']   \n4                      11                         18  ['email', 'phone']   \n...                   ...                        ...                 ...   \n1319                    1                          2           ['phone']   \n1320                    5                          5  ['email', 'phone']   \n1321                   22                         32  ['email', 'phone']   \n1322                    5                          6           ['phone']   \n1323                    1                          1           ['phone']   \n\n     host_has_profile_pic host_identity_verified  \\\n0                       t                      f   \n1                       t                      t   \n2                       t                      t   \n3                       t                      f   \n4                       t                      f   \n...                   ...                    ...   \n1319                    t                      t   \n1320                    t                      t   \n1321                    t                      t   \n1322                    t                      t   \n1323                    t                      t   \n\n                               neighbourhood  \\\n0     Jersey City, New Jersey, United States   \n1     Jersey City, New Jersey, United States   \n2     Jersey City, New Jersey, United States   \n3     Jersey City, New Jersey, United States   \n4                                        NaN   \n...                                      ...   \n1319                                     NaN   \n1320  Jersey City, New Jersey, United States   \n1321                                     NaN   \n1322                                     NaN   \n1323                                     NaN   \n\n                           neighbourhood_cleansed  \\\n0         Ward C (councilmember Richard Boggiano)   \n1     Ward F (councilmember Jermaine D. Robinson)   \n2     Ward F (councilmember Jermaine D. Robinson)   \n3     Ward F (councilmember Jermaine D. Robinson)   \n4     Ward F (councilmember Jermaine D. Robinson)   \n...                                           ...   \n1319         Ward E (councilmember James Solomon)   \n1320  Ward F (councilmember Jermaine D. Robinson)   \n1321         Ward A (councilmember Denise Ridley)   \n1322         Ward A (councilmember Denise Ridley)   \n1323       Ward B (councilmember Mira Prinz-Arey)   \n\n      neighbourhood_group_cleansed   latitude  longitude  \\\n0                              NaN  40.737240 -74.053100   \n1                              NaN  40.714380 -74.058100   \n2                              NaN  40.711620 -74.061790   \n3                              NaN  40.711350 -74.063740   \n4                              NaN  40.713400 -74.064890   \n...                            ...        ...        ...   \n1319                           NaN  40.719732 -74.046680   \n1320                           NaN  40.705539 -74.076724   \n1321                           NaN  40.688882 -74.097413   \n1322                           NaN  40.687234 -74.099546   \n1323                           NaN  40.732470 -74.075320   \n\n                    property_type        room_type  accommodates  bathrooms  \\\n0           Private room in condo     Private room             2        NaN   \n1                     Entire home  Entire home/apt             4        NaN   \n2                     Entire home  Entire home/apt             2        NaN   \n3              Entire rental unit  Entire home/apt             5        NaN   \n4       Private room in townhouse     Private room             1        NaN   \n...                           ...              ...           ...        ...   \n1319  Private room in rental unit     Private room             1        NaN   \n1320  Private room in rental unit     Private room             2        NaN   \n1321  Private room in rental unit     Private room             2        NaN   \n1322         Private room in home     Private room             2        NaN   \n1323                  Entire home  Entire home/apt             8        NaN   \n\n      bathrooms_text  bedrooms  beds  \\\n0      1 shared bath       1.0   1.0   \n1             1 bath       1.0   2.0   \n2             1 bath       1.0   1.0   \n3             1 bath       2.0   3.0   \n4     1 private bath       NaN   1.0   \n...              ...       ...   ...   \n1319          1 bath       NaN   1.0   \n1320          1 bath       1.0   1.0   \n1321          1 bath       1.0   1.0   \n1322          1 bath       1.0   1.0   \n1323         2 baths       3.0   3.0   \n\n                                              amenities    price  \\\n0     [\"Single level home\", \"Washer\", \"Fire extingui...  $128.00   \n1     [\"Coffee\", \"Washer\", \"Fire extinguisher\", \"Hos...  $139.00   \n2     [\"Coffee\", \"Washer\", \"Fire extinguisher\", \"Hos...  $139.00   \n3     [\"Self check-in\", \"Pack \\u2019n play/Travel cr...  $136.00   \n4     [\"Self check-in\", \"Fire extinguisher\", \"Hot wa...   $56.00   \n...                                                 ...      ...   \n1319  [\"Fire extinguisher\", \"Carbon monoxide alarm\",...   $75.00   \n1320  [\"Self check-in\", \"Fire extinguisher\", \"Room-d...   $85.00   \n1321  [\"Self check-in\", \"Room-darkening shades\", \"Ba...   $60.00   \n1322  [\"Washer\", \"Fire extinguisher\", \"Room-darkenin...   $56.00   \n1323  [\"Washer\", \"Fire extinguisher\", \"Carbon monoxi...  $239.00   \n\n      minimum_nights  maximum_nights  minimum_minimum_nights  \\\n0                  3             365                       3   \n1                  5            1000                       5   \n2                  5             365                       5   \n3                  3             365                       2   \n4                  3             365                       3   \n...              ...             ...                     ...   \n1319               1             365                       1   \n1320               2              27                       2   \n1321               1             365                       1   \n1322               3             365                       3   \n1323               1              30                       1   \n\n      maximum_minimum_nights  minimum_maximum_nights  maximum_maximum_nights  \\\n0                          3                     365                     365   \n1                          5                    1000                    1000   \n2                          5                     365                     365   \n3                          3                    1125                    1125   \n4                          7                    1125                    1125   \n...                      ...                     ...                     ...   \n1319                       1                     365                     365   \n1320                       2                      27                      27   \n1321                       1                     365                     365   \n1322                       3                     365                     365   \n1323                       1                      30                      30   \n\n      minimum_nights_avg_ntm  maximum_nights_avg_ntm  calendar_updated  \\\n0                        3.0                   365.0               NaN   \n1                        5.0                  1000.0               NaN   \n2                        5.0                   365.0               NaN   \n3                        3.0                  1125.0               NaN   \n4                        3.1                  1125.0               NaN   \n...                      ...                     ...               ...   \n1319                     1.0                   365.0               NaN   \n1320                     2.0                    27.0               NaN   \n1321                     1.0                   365.0               NaN   \n1322                     3.0                   365.0               NaN   \n1323                     1.0                    30.0               NaN   \n\n     has_availability  availability_30  availability_60  availability_90  \\\n0                   t                5               27               57   \n1                   t                6               19               35   \n2                   t                0               18               41   \n3                   t                5               17               42   \n4                   t                2               14               32   \n...               ...              ...              ...              ...   \n1319                t               19               44               74   \n1320                t               11               36               66   \n1321                t                0                0                0   \n1322                t               16               46               76   \n1323                t               23               53               83   \n\n      availability_365 calendar_last_scraped  number_of_reviews  \\\n0                   57            2023-09-18                 11   \n1                  285            2023-09-18                171   \n2                  303            2023-09-18                126   \n3                  314            2023-09-18                418   \n4                  279            2023-09-18                296   \n...                ...                   ...                ...   \n1319               254            2023-09-18                  0   \n1320               240            2023-09-18                  0   \n1321                13            2023-09-18                  0   \n1322               256            2023-09-18                  0   \n1323               169            2023-09-18                  0   \n\n      number_of_reviews_ltm  number_of_reviews_l30d first_review last_review  \\\n0                         1                       1   2010-09-23  2023-09-10   \n1                        17                       2   2011-09-13  2023-09-13   \n2                         8                       0   2011-11-21  2023-06-24   \n3                        18                       2   2011-11-25  2023-09-02   \n4                        25                       2   2011-12-17  2023-08-28   \n...                     ...                     ...          ...         ...   \n1319                      0                       0          NaN         NaN   \n1320                      0                       0          NaN         NaN   \n1321                      0                       0          NaN         NaN   \n1322                      0                       0          NaN         NaN   \n1323                      0                       0          NaN         NaN   \n\n      review_scores_rating  review_scores_accuracy  review_scores_cleanliness  \\\n0                     5.00                    5.00                       5.00   \n1                     4.77                    4.77                       4.88   \n2                     4.76                    4.78                       4.90   \n3                     4.36                    4.64                       4.57   \n4                     4.55                    4.69                       4.72   \n...                    ...                     ...                        ...   \n1319                   NaN                     NaN                        NaN   \n1320                   NaN                     NaN                        NaN   \n1321                   NaN                     NaN                        NaN   \n1322                   NaN                     NaN                        NaN   \n1323                   NaN                     NaN                        NaN   \n\n      review_scores_checkin  review_scores_communication  \\\n0                      5.00                         5.00   \n1                      4.87                         4.87   \n2                      4.91                         4.83   \n3                      4.69                         4.66   \n4                      4.73                         4.71   \n...                     ...                          ...   \n1319                    NaN                          NaN   \n1320                    NaN                          NaN   \n1321                    NaN                          NaN   \n1322                    NaN                          NaN   \n1323                    NaN                          NaN   \n\n      review_scores_location  review_scores_value      license  \\\n0                       5.00                 5.00          NaN   \n1                       4.32                 4.79  STR20-00055   \n2                       4.32                 4.74  STR20-00055   \n3                       3.85                 4.46          NaN   \n4                       3.99                 4.59          NaN   \n...                      ...                  ...          ...   \n1319                     NaN                  NaN          NaN   \n1320                     NaN                  NaN          NaN   \n1321                     NaN                  NaN          NaN   \n1322                     NaN                  NaN          NaN   \n1323                     NaN                  NaN          NaN   \n\n     instant_bookable  calculated_host_listings_count  \\\n0                   f                               1   \n1                   f                               2   \n2                   f                               2   \n3                   t                              11   \n4                   t                              11   \n...               ...                             ...   \n1319                f                               1   \n1320                f                               5   \n1321                t                              21   \n1322                f                               1   \n1323                f                               1   \n\n      calculated_host_listings_count_entire_homes  \\\n0                                               0   \n1                                               2   \n2                                               2   \n3                                               1   \n4                                               1   \n...                                           ...   \n1319                                            0   \n1320                                            1   \n1321                                            6   \n1322                                            0   \n1323                                            1   \n\n      calculated_host_listings_count_private_rooms  \\\n0                                                1   \n1                                                0   \n2                                                0   \n3                                               10   \n4                                               10   \n...                                            ...   \n1319                                             1   \n1320                                             4   \n1321                                            15   \n1322                                             1   \n1323                                             0   \n\n      calculated_host_listings_count_shared_rooms  reviews_per_month  \n0                                               0               0.07  \n1                                               0               1.17  \n2                                               0               0.88  \n3                                               0               2.91  \n4                                               0               2.07  \n...                                           ...                ...  \n1319                                            0                NaN  \n1320                                            0                NaN  \n1321                                            0                NaN  \n1322                                            0                NaN  \n1323                                            0                NaN  \n\n[1324 rows x 75 columns]",
      "text/html": "<div>\n<style scoped>\n    .dataframe tbody tr th:only-of-type {\n        vertical-align: middle;\n    }\n\n    .dataframe tbody tr th {\n        vertical-align: top;\n    }\n\n    .dataframe thead th {\n        text-align: right;\n    }\n</style>\n<table border=\"1\" class=\"dataframe\">\n  <thead>\n    <tr style=\"text-align: right;\">\n      <th></th>\n      <th>id</th>\n      <th>listing_url</th>\n      <th>scrape_id</th>\n      <th>last_scraped</th>\n      <th>source</th>\n      <th>name</th>\n      <th>description</th>\n      <th>neighborhood_overview</th>\n      <th>picture_url</th>\n      <th>host_id</th>\n      <th>host_url</th>\n      <th>host_name</th>\n      <th>host_since</th>\n      <th>host_location</th>\n      <th>host_about</th>\n      <th>host_response_time</th>\n      <th>host_response_rate</th>\n      <th>host_acceptance_rate</th>\n      <th>host_is_superhost</th>\n      <th>host_thumbnail_url</th>\n      <th>host_picture_url</th>\n      <th>host_neighbourhood</th>\n      <th>host_listings_count</th>\n      <th>host_total_listings_count</th>\n      <th>host_verifications</th>\n      <th>host_has_profile_pic</th>\n      <th>host_identity_verified</th>\n      <th>neighbourhood</th>\n      <th>neighbourhood_cleansed</th>\n      <th>neighbourhood_group_cleansed</th>\n      <th>latitude</th>\n      <th>longitude</th>\n      <th>property_type</th>\n      <th>room_type</th>\n      <th>accommodates</th>\n      <th>bathrooms</th>\n      <th>bathrooms_text</th>\n      <th>bedrooms</th>\n      <th>beds</th>\n      <th>amenities</th>\n      <th>price</th>\n      <th>minimum_nights</th>\n      <th>maximum_nights</th>\n      <th>minimum_minimum_nights</th>\n      <th>maximum_minimum_nights</th>\n      <th>minimum_maximum_nights</th>\n      <th>maximum_maximum_nights</th>\n      <th>minimum_nights_avg_ntm</th>\n      <th>maximum_nights_avg_ntm</th>\n      <th>calendar_updated</th>\n      <th>has_availability</th>\n      <th>availability_30</th>\n      <th>availability_60</th>\n      <th>availability_90</th>\n      <th>availability_365</th>\n      <th>calendar_last_scraped</th>\n      <th>number_of_reviews</th>\n      <th>number_of_reviews_ltm</th>\n      <th>number_of_reviews_l30d</th>\n      <th>first_review</th>\n      <th>last_review</th>\n      <th>review_scores_rating</th>\n      <th>review_scores_accuracy</th>\n      <th>review_scores_cleanliness</th>\n      <th>review_scores_checkin</th>\n      <th>review_scores_communication</th>\n      <th>review_scores_location</th>\n      <th>review_scores_value</th>\n      <th>license</th>\n      <th>instant_bookable</th>\n      <th>calculated_host_listings_count</th>\n      <th>calculated_host_listings_count_entire_homes</th>\n      <th>calculated_host_listings_count_private_rooms</th>\n      <th>calculated_host_listings_count_shared_rooms</th>\n      <th>reviews_per_month</th>\n    </tr>\n  </thead>\n  <tbody>\n    <tr>\n      <th>0</th>\n      <td>40669</td>\n      <td>https://www.airbnb.com/rooms/40669</td>\n      <td>20230918050414</td>\n      <td>2023-09-18</td>\n      <td>city scrape</td>\n      <td>Condo in Jersey City · ★5.0 · 1 bedroom · 1 be...</td>\n      <td>&lt;b&gt;The space&lt;/b&gt;&lt;br /&gt;Skyy’s Lounge ....Everyt...</td>\n      <td>The neighborhood is very diverse &amp; friendly sh...</td>\n      <td>https://a0.muscache.com/pictures/af7e4a45-0118...</td>\n      <td>175412</td>\n      <td>https://www.airbnb.com/users/show/175412</td>\n      <td>Skyy</td>\n      <td>2010-07-20</td>\n      <td>Jersey City, NJ</td>\n      <td>I am the owner of a high end Nail Salon in the...</td>\n      <td>within a day</td>\n      <td>71%</td>\n      <td>60%</td>\n      <td>f</td>\n      <td>https://a0.muscache.com/im/users/175412/profil...</td>\n      <td>https://a0.muscache.com/im/users/175412/profil...</td>\n      <td>NaN</td>\n      <td>1</td>\n      <td>4</td>\n      <td>['email', 'phone']</td>\n      <td>t</td>\n      <td>f</td>\n      <td>Jersey City, New Jersey, United States</td>\n      <td>Ward C (councilmember Richard Boggiano)</td>\n      <td>NaN</td>\n      <td>40.737240</td>\n      <td>-74.053100</td>\n      <td>Private room in condo</td>\n      <td>Private room</td>\n      <td>2</td>\n      <td>NaN</td>\n      <td>1 shared bath</td>\n      <td>1.0</td>\n      <td>1.0</td>\n      <td>[\"Single level home\", \"Washer\", \"Fire extingui...</td>\n      <td>$128.00</td>\n      <td>3</td>\n      <td>365</td>\n      <td>3</td>\n      <td>3</td>\n      <td>365</td>\n      <td>365</td>\n      <td>3.0</td>\n      <td>365.0</td>\n      <td>NaN</td>\n      <td>t</td>\n      <td>5</td>\n      <td>27</td>\n      <td>57</td>\n      <td>57</td>\n      <td>2023-09-18</td>\n      <td>11</td>\n      <td>1</td>\n      <td>1</td>\n      <td>2010-09-23</td>\n      <td>2023-09-10</td>\n      <td>5.00</td>\n      <td>5.00</td>\n      <td>5.00</td>\n      <td>5.00</td>\n      <td>5.00</td>\n      <td>5.00</td>\n      <td>5.00</td>\n      <td>NaN</td>\n      <td>f</td>\n      <td>1</td>\n      <td>0</td>\n      <td>1</td>\n      <td>0</td>\n      <td>0.07</td>\n    </tr>\n    <tr>\n      <th>1</th>\n      <td>215768</td>\n      <td>https://www.airbnb.com/rooms/215768</td>\n      <td>20230918050414</td>\n      <td>2023-09-18</td>\n      <td>city scrape</td>\n      <td>Home in Jersey City · ★4.77 · 1 bedroom · 2 be...</td>\n      <td>Walking to distance to Statue of Liberty and E...</td>\n      <td>Such close proximity to NYC, 7 minutes on the ...</td>\n      <td>https://a0.muscache.com/pictures/miso/Hosting-...</td>\n      <td>846837</td>\n      <td>https://www.airbnb.com/users/show/846837</td>\n      <td>Charlaine</td>\n      <td>2011-07-20</td>\n      <td>Jersey City, NJ</td>\n      <td>Thank you for taking the time to learn a bit a...</td>\n      <td>within an hour</td>\n      <td>100%</td>\n      <td>99%</td>\n      <td>t</td>\n      <td>https://a0.muscache.com/im/pictures/user/User-...</td>\n      <td>https://a0.muscache.com/im/pictures/user/User-...</td>\n      <td>NaN</td>\n      <td>2</td>\n      <td>4</td>\n      <td>['email', 'phone']</td>\n      <td>t</td>\n      <td>t</td>\n      <td>Jersey City, New Jersey, United States</td>\n      <td>Ward F (councilmember Jermaine D. Robinson)</td>\n      <td>NaN</td>\n      <td>40.714380</td>\n      <td>-74.058100</td>\n      <td>Entire home</td>\n      <td>Entire home/apt</td>\n      <td>4</td>\n      <td>NaN</td>\n      <td>1 bath</td>\n      <td>1.0</td>\n      <td>2.0</td>\n      <td>[\"Coffee\", \"Washer\", \"Fire extinguisher\", \"Hos...</td>\n      <td>$139.00</td>\n      <td>5</td>\n      <td>1000</td>\n      <td>5</td>\n      <td>5</td>\n      <td>1000</td>\n      <td>1000</td>\n      <td>5.0</td>\n      <td>1000.0</td>\n      <td>NaN</td>\n      <td>t</td>\n      <td>6</td>\n      <td>19</td>\n      <td>35</td>\n      <td>285</td>\n      <td>2023-09-18</td>\n      <td>171</td>\n      <td>17</td>\n      <td>2</td>\n      <td>2011-09-13</td>\n      <td>2023-09-13</td>\n      <td>4.77</td>\n      <td>4.77</td>\n      <td>4.88</td>\n      <td>4.87</td>\n      <td>4.87</td>\n      <td>4.32</td>\n      <td>4.79</td>\n      <td>STR20-00055</td>\n      <td>f</td>\n      <td>2</td>\n      <td>2</td>\n      <td>0</td>\n      <td>0</td>\n      <td>1.17</td>\n    </tr>\n    <tr>\n      <th>2</th>\n      <td>254245</td>\n      <td>https://www.airbnb.com/rooms/254245</td>\n      <td>20230918050414</td>\n      <td>2023-09-18</td>\n      <td>city scrape</td>\n      <td>Home in Jersey City · ★4.76 · 1 bedroom · 1 be...</td>\n      <td>Walking to distance to Statue of Liberty and E...</td>\n      <td>Such close proximity to NYC, 7 minutes on the ...</td>\n      <td>https://a0.muscache.com/pictures/miso/Hosting-...</td>\n      <td>846837</td>\n      <td>https://www.airbnb.com/users/show/846837</td>\n      <td>Charlaine</td>\n      <td>2011-07-20</td>\n      <td>Jersey City, NJ</td>\n      <td>Thank you for taking the time to learn a bit a...</td>\n      <td>within an hour</td>\n      <td>100%</td>\n      <td>99%</td>\n      <td>t</td>\n      <td>https://a0.muscache.com/im/pictures/user/User-...</td>\n      <td>https://a0.muscache.com/im/pictures/user/User-...</td>\n      <td>NaN</td>\n      <td>2</td>\n      <td>4</td>\n      <td>['email', 'phone']</td>\n      <td>t</td>\n      <td>t</td>\n      <td>Jersey City, New Jersey, United States</td>\n      <td>Ward F (councilmember Jermaine D. Robinson)</td>\n      <td>NaN</td>\n      <td>40.711620</td>\n      <td>-74.061790</td>\n      <td>Entire home</td>\n      <td>Entire home/apt</td>\n      <td>2</td>\n      <td>NaN</td>\n      <td>1 bath</td>\n      <td>1.0</td>\n      <td>1.0</td>\n      <td>[\"Coffee\", \"Washer\", \"Fire extinguisher\", \"Hos...</td>\n      <td>$139.00</td>\n      <td>5</td>\n      <td>365</td>\n      <td>5</td>\n      <td>5</td>\n      <td>365</td>\n      <td>365</td>\n      <td>5.0</td>\n      <td>365.0</td>\n      <td>NaN</td>\n      <td>t</td>\n      <td>0</td>\n      <td>18</td>\n      <td>41</td>\n      <td>303</td>\n      <td>2023-09-18</td>\n      <td>126</td>\n      <td>8</td>\n      <td>0</td>\n      <td>2011-11-21</td>\n      <td>2023-06-24</td>\n      <td>4.76</td>\n      <td>4.78</td>\n      <td>4.90</td>\n      <td>4.91</td>\n      <td>4.83</td>\n      <td>4.32</td>\n      <td>4.74</td>\n      <td>STR20-00055</td>\n      <td>f</td>\n      <td>2</td>\n      <td>2</td>\n      <td>0</td>\n      <td>0</td>\n      <td>0.88</td>\n    </tr>\n    <tr>\n      <th>3</th>\n      <td>269266</td>\n      <td>https://www.airbnb.com/rooms/269266</td>\n      <td>20230918050414</td>\n      <td>2023-09-18</td>\n      <td>city scrape</td>\n      <td>Rental unit in Jersey City · ★4.36 · 2 bedroom...</td>\n      <td>Enjoy that private luxury two bedrooms apartme...</td>\n      <td>Our House is located in the Liberty State Park...</td>\n      <td>https://a0.muscache.com/pictures/miso/Hosting-...</td>\n      <td>1410590</td>\n      <td>https://www.airbnb.com/users/show/1410590</td>\n      <td>Magda</td>\n      <td>2011-11-15</td>\n      <td>Jersey City, NJ</td>\n      <td>I am living in New York City area  for several...</td>\n      <td>within an hour</td>\n      <td>100%</td>\n      <td>100%</td>\n      <td>f</td>\n      <td>https://a0.muscache.com/im/users/1410590/profi...</td>\n      <td>https://a0.muscache.com/im/users/1410590/profi...</td>\n      <td>Bergen-Lafayette</td>\n      <td>11</td>\n      <td>18</td>\n      <td>['email', 'phone']</td>\n      <td>t</td>\n      <td>f</td>\n      <td>Jersey City, New Jersey, United States</td>\n      <td>Ward F (councilmember Jermaine D. Robinson)</td>\n      <td>NaN</td>\n      <td>40.711350</td>\n      <td>-74.063740</td>\n      <td>Entire rental unit</td>\n      <td>Entire home/apt</td>\n      <td>5</td>\n      <td>NaN</td>\n      <td>1 bath</td>\n      <td>2.0</td>\n      <td>3.0</td>\n      <td>[\"Self check-in\", \"Pack \\u2019n play/Travel cr...</td>\n      <td>$136.00</td>\n      <td>3</td>\n      <td>365</td>\n      <td>2</td>\n      <td>3</td>\n      <td>1125</td>\n      <td>1125</td>\n      <td>3.0</td>\n      <td>1125.0</td>\n      <td>NaN</td>\n      <td>t</td>\n      <td>5</td>\n      <td>17</td>\n      <td>42</td>\n      <td>314</td>\n      <td>2023-09-18</td>\n      <td>418</td>\n      <td>18</td>\n      <td>2</td>\n      <td>2011-11-25</td>\n      <td>2023-09-02</td>\n      <td>4.36</td>\n      <td>4.64</td>\n      <td>4.57</td>\n      <td>4.69</td>\n      <td>4.66</td>\n      <td>3.85</td>\n      <td>4.46</td>\n      <td>NaN</td>\n      <td>t</td>\n      <td>11</td>\n      <td>1</td>\n      <td>10</td>\n      <td>0</td>\n      <td>2.91</td>\n    </tr>\n    <tr>\n      <th>4</th>\n      <td>270245</td>\n      <td>https://www.airbnb.com/rooms/270245</td>\n      <td>20230918050414</td>\n      <td>2023-09-18</td>\n      <td>city scrape</td>\n      <td>Townhouse in Jersey City · ★4.55 · 1 bedroom ·...</td>\n      <td>Just for you small bedroom with private bathro...</td>\n      <td>NaN</td>\n      <td>https://a0.muscache.com/pictures/miso/Hosting-...</td>\n      <td>1410590</td>\n      <td>https://www.airbnb.com/users/show/1410590</td>\n      <td>Magda</td>\n      <td>2011-11-15</td>\n      <td>Jersey City, NJ</td>\n      <td>I am living in New York City area  for several...</td>\n      <td>within an hour</td>\n      <td>100%</td>\n      <td>100%</td>\n      <td>f</td>\n      <td>https://a0.muscache.com/im/users/1410590/profi...</td>\n      <td>https://a0.muscache.com/im/users/1410590/profi...</td>\n      <td>Bergen-Lafayette</td>\n      <td>11</td>\n      <td>18</td>\n      <td>['email', 'phone']</td>\n      <td>t</td>\n      <td>f</td>\n      <td>NaN</td>\n      <td>Ward F (councilmember Jermaine D. Robinson)</td>\n      <td>NaN</td>\n      <td>40.713400</td>\n      <td>-74.064890</td>\n      <td>Private room in townhouse</td>\n      <td>Private room</td>\n      <td>1</td>\n      <td>NaN</td>\n      <td>1 private bath</td>\n      <td>NaN</td>\n      <td>1.0</td>\n      <td>[\"Self check-in\", \"Fire extinguisher\", \"Hot wa...</td>\n      <td>$56.00</td>\n      <td>3</td>\n      <td>365</td>\n      <td>3</td>\n      <td>7</td>\n      <td>1125</td>\n      <td>1125</td>\n      <td>3.1</td>\n      <td>1125.0</td>\n      <td>NaN</td>\n      <td>t</td>\n      <td>2</td>\n      <td>14</td>\n      <td>32</td>\n      <td>279</td>\n      <td>2023-09-18</td>\n      <td>296</td>\n      <td>25</td>\n      <td>2</td>\n      <td>2011-12-17</td>\n      <td>2023-08-28</td>\n      <td>4.55</td>\n      <td>4.69</td>\n      <td>4.72</td>\n      <td>4.73</td>\n      <td>4.71</td>\n      <td>3.99</td>\n      <td>4.59</td>\n      <td>NaN</td>\n      <td>t</td>\n      <td>11</td>\n      <td>1</td>\n      <td>10</td>\n      <td>0</td>\n      <td>2.07</td>\n    </tr>\n    <tr>\n      <th>...</th>\n      <td>...</td>\n      <td>...</td>\n      <td>...</td>\n      <td>...</td>\n      <td>...</td>\n      <td>...</td>\n      <td>...</td>\n      <td>...</td>\n      <td>...</td>\n      <td>...</td>\n      <td>...</td>\n      <td>...</td>\n      <td>...</td>\n      <td>...</td>\n      <td>...</td>\n      <td>...</td>\n      <td>...</td>\n      <td>...</td>\n      <td>...</td>\n      <td>...</td>\n      <td>...</td>\n      <td>...</td>\n      <td>...</td>\n      <td>...</td>\n      <td>...</td>\n      <td>...</td>\n      <td>...</td>\n      <td>...</td>\n      <td>...</td>\n      <td>...</td>\n      <td>...</td>\n      <td>...</td>\n      <td>...</td>\n      <td>...</td>\n      <td>...</td>\n      <td>...</td>\n      <td>...</td>\n      <td>...</td>\n      <td>...</td>\n      <td>...</td>\n      <td>...</td>\n      <td>...</td>\n      <td>...</td>\n      <td>...</td>\n      <td>...</td>\n      <td>...</td>\n      <td>...</td>\n      <td>...</td>\n      <td>...</td>\n      <td>...</td>\n      <td>...</td>\n      <td>...</td>\n      <td>...</td>\n      <td>...</td>\n      <td>...</td>\n      <td>...</td>\n      <td>...</td>\n      <td>...</td>\n      <td>...</td>\n      <td>...</td>\n      <td>...</td>\n      <td>...</td>\n      <td>...</td>\n      <td>...</td>\n      <td>...</td>\n      <td>...</td>\n      <td>...</td>\n      <td>...</td>\n      <td>...</td>\n      <td>...</td>\n      <td>...</td>\n      <td>...</td>\n      <td>...</td>\n      <td>...</td>\n      <td>...</td>\n    </tr>\n    <tr>\n      <th>1319</th>\n      <td>980482250747395799</td>\n      <td>https://www.airbnb.com/rooms/980482250747395799</td>\n      <td>20230918050414</td>\n      <td>2023-09-18</td>\n      <td>city scrape</td>\n      <td>Rental unit in Jersey City · ★New · 1 bedroom ...</td>\n      <td>Safe location, charming place , 2-3 min walkin...</td>\n      <td>NaN</td>\n      <td>https://a0.muscache.com/pictures/hosting/Hosti...</td>\n      <td>536701303</td>\n      <td>https://www.airbnb.com/users/show/536701303</td>\n      <td>Fares</td>\n      <td>2023-09-11</td>\n      <td>NaN</td>\n      <td>NaN</td>\n      <td>NaN</td>\n      <td>NaN</td>\n      <td>100%</td>\n      <td>f</td>\n      <td>https://a0.muscache.com/im/pictures/user/User-...</td>\n      <td>https://a0.muscache.com/im/pictures/user/User-...</td>\n      <td>Downtown Jersey City</td>\n      <td>1</td>\n      <td>2</td>\n      <td>['phone']</td>\n      <td>t</td>\n      <td>t</td>\n      <td>NaN</td>\n      <td>Ward E (councilmember James Solomon)</td>\n      <td>NaN</td>\n      <td>40.719732</td>\n      <td>-74.046680</td>\n      <td>Private room in rental unit</td>\n      <td>Private room</td>\n      <td>1</td>\n      <td>NaN</td>\n      <td>1 bath</td>\n      <td>NaN</td>\n      <td>1.0</td>\n      <td>[\"Fire extinguisher\", \"Carbon monoxide alarm\",...</td>\n      <td>$75.00</td>\n      <td>1</td>\n      <td>365</td>\n      <td>1</td>\n      <td>1</td>\n      <td>365</td>\n      <td>365</td>\n      <td>1.0</td>\n      <td>365.0</td>\n      <td>NaN</td>\n      <td>t</td>\n      <td>19</td>\n      <td>44</td>\n      <td>74</td>\n      <td>254</td>\n      <td>2023-09-18</td>\n      <td>0</td>\n      <td>0</td>\n      <td>0</td>\n      <td>NaN</td>\n      <td>NaN</td>\n      <td>NaN</td>\n      <td>NaN</td>\n      <td>NaN</td>\n      <td>NaN</td>\n      <td>NaN</td>\n      <td>NaN</td>\n      <td>NaN</td>\n      <td>NaN</td>\n      <td>f</td>\n      <td>1</td>\n      <td>0</td>\n      <td>1</td>\n      <td>0</td>\n      <td>NaN</td>\n    </tr>\n    <tr>\n      <th>1320</th>\n      <td>981050569727129557</td>\n      <td>https://www.airbnb.com/rooms/981050569727129557</td>\n      <td>20230918050414</td>\n      <td>2023-09-18</td>\n      <td>city scrape</td>\n      <td>Rental unit in Jersey City · ★New · 1 bedroom ...</td>\n      <td>Welcome to our inviting shared bedroom at Jers...</td>\n      <td>Our apartment is strategically located, making...</td>\n      <td>https://a0.muscache.com/pictures/miso/Hosting-...</td>\n      <td>513781380</td>\n      <td>https://www.airbnb.com/users/show/513781380</td>\n      <td>Jc</td>\n      <td>2023-05-08</td>\n      <td>Jersey City, NJ</td>\n      <td>JC Livin is a small business that specializes ...</td>\n      <td>within an hour</td>\n      <td>100%</td>\n      <td>96%</td>\n      <td>f</td>\n      <td>https://a0.muscache.com/im/pictures/user/User-...</td>\n      <td>https://a0.muscache.com/im/pictures/user/User-...</td>\n      <td>Bergen-Lafayette</td>\n      <td>5</td>\n      <td>5</td>\n      <td>['email', 'phone']</td>\n      <td>t</td>\n      <td>t</td>\n      <td>Jersey City, New Jersey, United States</td>\n      <td>Ward F (councilmember Jermaine D. Robinson)</td>\n      <td>NaN</td>\n      <td>40.705539</td>\n      <td>-74.076724</td>\n      <td>Private room in rental unit</td>\n      <td>Private room</td>\n      <td>2</td>\n      <td>NaN</td>\n      <td>1 bath</td>\n      <td>1.0</td>\n      <td>1.0</td>\n      <td>[\"Self check-in\", \"Fire extinguisher\", \"Room-d...</td>\n      <td>$85.00</td>\n      <td>2</td>\n      <td>27</td>\n      <td>2</td>\n      <td>2</td>\n      <td>27</td>\n      <td>27</td>\n      <td>2.0</td>\n      <td>27.0</td>\n      <td>NaN</td>\n      <td>t</td>\n      <td>11</td>\n      <td>36</td>\n      <td>66</td>\n      <td>240</td>\n      <td>2023-09-18</td>\n      <td>0</td>\n      <td>0</td>\n      <td>0</td>\n      <td>NaN</td>\n      <td>NaN</td>\n      <td>NaN</td>\n      <td>NaN</td>\n      <td>NaN</td>\n      <td>NaN</td>\n      <td>NaN</td>\n      <td>NaN</td>\n      <td>NaN</td>\n      <td>NaN</td>\n      <td>f</td>\n      <td>5</td>\n      <td>1</td>\n      <td>4</td>\n      <td>0</td>\n      <td>NaN</td>\n    </tr>\n    <tr>\n      <th>1321</th>\n      <td>981716811722485393</td>\n      <td>https://www.airbnb.com/rooms/981716811722485393</td>\n      <td>20230918050414</td>\n      <td>2023-09-18</td>\n      <td>city scrape</td>\n      <td>Rental unit in Jersey City · ★New · 1 bedroom ...</td>\n      <td>This unique place has a style all its own.</td>\n      <td>NaN</td>\n      <td>https://a0.muscache.com/pictures/75b1cfdc-3b1d...</td>\n      <td>98240103</td>\n      <td>https://www.airbnb.com/users/show/98240103</td>\n      <td>Julio</td>\n      <td>2016-10-05</td>\n      <td>Jersey City, NJ</td>\n      <td>My Name is Julio Gallardo and I am married to ...</td>\n      <td>within an hour</td>\n      <td>100%</td>\n      <td>99%</td>\n      <td>f</td>\n      <td>https://a0.muscache.com/im/pictures/user/1918a...</td>\n      <td>https://a0.muscache.com/im/pictures/user/1918a...</td>\n      <td>The Heights</td>\n      <td>22</td>\n      <td>32</td>\n      <td>['email', 'phone']</td>\n      <td>t</td>\n      <td>t</td>\n      <td>NaN</td>\n      <td>Ward A (councilmember Denise Ridley)</td>\n      <td>NaN</td>\n      <td>40.688882</td>\n      <td>-74.097413</td>\n      <td>Private room in rental unit</td>\n      <td>Private room</td>\n      <td>2</td>\n      <td>NaN</td>\n      <td>1 bath</td>\n      <td>1.0</td>\n      <td>1.0</td>\n      <td>[\"Self check-in\", \"Room-darkening shades\", \"Ba...</td>\n      <td>$60.00</td>\n      <td>1</td>\n      <td>365</td>\n      <td>1</td>\n      <td>1</td>\n      <td>365</td>\n      <td>365</td>\n      <td>1.0</td>\n      <td>365.0</td>\n      <td>NaN</td>\n      <td>t</td>\n      <td>0</td>\n      <td>0</td>\n      <td>0</td>\n      <td>13</td>\n      <td>2023-09-18</td>\n      <td>0</td>\n      <td>0</td>\n      <td>0</td>\n      <td>NaN</td>\n      <td>NaN</td>\n      <td>NaN</td>\n      <td>NaN</td>\n      <td>NaN</td>\n      <td>NaN</td>\n      <td>NaN</td>\n      <td>NaN</td>\n      <td>NaN</td>\n      <td>NaN</td>\n      <td>t</td>\n      <td>21</td>\n      <td>6</td>\n      <td>15</td>\n      <td>0</td>\n      <td>NaN</td>\n    </tr>\n    <tr>\n      <th>1322</th>\n      <td>981829528456499146</td>\n      <td>https://www.airbnb.com/rooms/981829528456499146</td>\n      <td>20230918050414</td>\n      <td>2023-09-18</td>\n      <td>city scrape</td>\n      <td>Home in Bayonne · ★New · 1 bedroom · 1 bed · 1...</td>\n      <td>The room has an excellent location, it is a qu...</td>\n      <td>NaN</td>\n      <td>https://a0.muscache.com/pictures/hosting/Hosti...</td>\n      <td>333174348</td>\n      <td>https://www.airbnb.com/users/show/333174348</td>\n      <td>Winston</td>\n      <td>2020-02-03</td>\n      <td>NaN</td>\n      <td>NaN</td>\n      <td>NaN</td>\n      <td>NaN</td>\n      <td>NaN</td>\n      <td>f</td>\n      <td>https://a0.muscache.com/im/pictures/user/ce737...</td>\n      <td>https://a0.muscache.com/im/pictures/user/ce737...</td>\n      <td>Greenville</td>\n      <td>5</td>\n      <td>6</td>\n      <td>['phone']</td>\n      <td>t</td>\n      <td>t</td>\n      <td>NaN</td>\n      <td>Ward A (councilmember Denise Ridley)</td>\n      <td>NaN</td>\n      <td>40.687234</td>\n      <td>-74.099546</td>\n      <td>Private room in home</td>\n      <td>Private room</td>\n      <td>2</td>\n      <td>NaN</td>\n      <td>1 bath</td>\n      <td>1.0</td>\n      <td>1.0</td>\n      <td>[\"Washer\", \"Fire extinguisher\", \"Room-darkenin...</td>\n      <td>$56.00</td>\n      <td>3</td>\n      <td>365</td>\n      <td>3</td>\n      <td>3</td>\n      <td>365</td>\n      <td>365</td>\n      <td>3.0</td>\n      <td>365.0</td>\n      <td>NaN</td>\n      <td>t</td>\n      <td>16</td>\n      <td>46</td>\n      <td>76</td>\n      <td>256</td>\n      <td>2023-09-18</td>\n      <td>0</td>\n      <td>0</td>\n      <td>0</td>\n      <td>NaN</td>\n      <td>NaN</td>\n      <td>NaN</td>\n      <td>NaN</td>\n      <td>NaN</td>\n      <td>NaN</td>\n      <td>NaN</td>\n      <td>NaN</td>\n      <td>NaN</td>\n      <td>NaN</td>\n      <td>f</td>\n      <td>1</td>\n      <td>0</td>\n      <td>1</td>\n      <td>0</td>\n      <td>NaN</td>\n    </tr>\n    <tr>\n      <th>1323</th>\n      <td>982161671070648813</td>\n      <td>https://www.airbnb.com/rooms/982161671070648813</td>\n      <td>20230918050414</td>\n      <td>2023-09-18</td>\n      <td>city scrape</td>\n      <td>Home in Jersey City · ★New · 3 bedrooms · 3 be...</td>\n      <td>Lleva a toda la familia a este fantástico luga...</td>\n      <td>NaN</td>\n      <td>https://a0.muscache.com/pictures/hosting/Hosti...</td>\n      <td>537476710</td>\n      <td>https://www.airbnb.com/users/show/537476710</td>\n      <td>Jose A</td>\n      <td>2023-09-16</td>\n      <td>Jersey City, NJ</td>\n      <td>NaN</td>\n      <td>NaN</td>\n      <td>NaN</td>\n      <td>NaN</td>\n      <td>f</td>\n      <td>https://a0.muscache.com/im/pictures/user/User-...</td>\n      <td>https://a0.muscache.com/im/pictures/user/User-...</td>\n      <td>West Side</td>\n      <td>1</td>\n      <td>1</td>\n      <td>['phone']</td>\n      <td>t</td>\n      <td>t</td>\n      <td>NaN</td>\n      <td>Ward B (councilmember Mira Prinz-Arey)</td>\n      <td>NaN</td>\n      <td>40.732470</td>\n      <td>-74.075320</td>\n      <td>Entire home</td>\n      <td>Entire home/apt</td>\n      <td>8</td>\n      <td>NaN</td>\n      <td>2 baths</td>\n      <td>3.0</td>\n      <td>3.0</td>\n      <td>[\"Washer\", \"Fire extinguisher\", \"Carbon monoxi...</td>\n      <td>$239.00</td>\n      <td>1</td>\n      <td>30</td>\n      <td>1</td>\n      <td>1</td>\n      <td>30</td>\n      <td>30</td>\n      <td>1.0</td>\n      <td>30.0</td>\n      <td>NaN</td>\n      <td>t</td>\n      <td>23</td>\n      <td>53</td>\n      <td>83</td>\n      <td>169</td>\n      <td>2023-09-18</td>\n      <td>0</td>\n      <td>0</td>\n      <td>0</td>\n      <td>NaN</td>\n      <td>NaN</td>\n      <td>NaN</td>\n      <td>NaN</td>\n      <td>NaN</td>\n      <td>NaN</td>\n      <td>NaN</td>\n      <td>NaN</td>\n      <td>NaN</td>\n      <td>NaN</td>\n      <td>f</td>\n      <td>1</td>\n      <td>1</td>\n      <td>0</td>\n      <td>0</td>\n      <td>NaN</td>\n    </tr>\n  </tbody>\n</table>\n<p>1324 rows × 75 columns</p>\n</div>"
     },
     "execution_count": 3,
     "metadata": {},
     "output_type": "execute_result"
    }
   ],
   "source": [
    "pd.set_option('display.max_columns', None)\n",
    "data"
   ],
   "metadata": {
    "collapsed": false,
    "ExecuteTime": {
     "end_time": "2023-12-17T23:15:00.174318400Z",
     "start_time": "2023-12-17T23:15:00.127728600Z"
    }
   },
   "id": "9229bddce95d8ed5"
  },
  {
   "cell_type": "markdown",
   "source": [
    "# Wyswietlenie informacji o typach kolumn"
   ],
   "metadata": {
    "collapsed": false
   },
   "id": "251d326e2fbcdad"
  },
  {
   "cell_type": "code",
   "execution_count": 4,
   "outputs": [
    {
     "name": "stdout",
     "output_type": "stream",
     "text": [
      "<class 'pandas.core.frame.DataFrame'>\n",
      "RangeIndex: 1324 entries, 0 to 1323\n",
      "Data columns (total 75 columns):\n",
      " #   Column                                        Non-Null Count  Dtype  \n",
      "---  ------                                        --------------  -----  \n",
      " 0   id                                            1324 non-null   int64  \n",
      " 1   listing_url                                   1324 non-null   object \n",
      " 2   scrape_id                                     1324 non-null   int64  \n",
      " 3   last_scraped                                  1324 non-null   object \n",
      " 4   source                                        1324 non-null   object \n",
      " 5   name                                          1324 non-null   object \n",
      " 6   description                                   1317 non-null   object \n",
      " 7   neighborhood_overview                         819 non-null    object \n",
      " 8   picture_url                                   1324 non-null   object \n",
      " 9   host_id                                       1324 non-null   int64  \n",
      " 10  host_url                                      1324 non-null   object \n",
      " 11  host_name                                     1324 non-null   object \n",
      " 12  host_since                                    1324 non-null   object \n",
      " 13  host_location                                 1047 non-null   object \n",
      " 14  host_about                                    737 non-null    object \n",
      " 15  host_response_time                            1291 non-null   object \n",
      " 16  host_response_rate                            1291 non-null   object \n",
      " 17  host_acceptance_rate                          1272 non-null   object \n",
      " 18  host_is_superhost                             1304 non-null   object \n",
      " 19  host_thumbnail_url                            1324 non-null   object \n",
      " 20  host_picture_url                              1324 non-null   object \n",
      " 21  host_neighbourhood                            1122 non-null   object \n",
      " 22  host_listings_count                           1324 non-null   int64  \n",
      " 23  host_total_listings_count                     1324 non-null   int64  \n",
      " 24  host_verifications                            1324 non-null   object \n",
      " 25  host_has_profile_pic                          1324 non-null   object \n",
      " 26  host_identity_verified                        1324 non-null   object \n",
      " 27  neighbourhood                                 819 non-null    object \n",
      " 28  neighbourhood_cleansed                        1324 non-null   object \n",
      " 29  neighbourhood_group_cleansed                  0 non-null      float64\n",
      " 30  latitude                                      1324 non-null   float64\n",
      " 31  longitude                                     1324 non-null   float64\n",
      " 32  property_type                                 1324 non-null   object \n",
      " 33  room_type                                     1324 non-null   object \n",
      " 34  accommodates                                  1324 non-null   int64  \n",
      " 35  bathrooms                                     0 non-null      float64\n",
      " 36  bathrooms_text                                1324 non-null   object \n",
      " 37  bedrooms                                      856 non-null    float64\n",
      " 38  beds                                          1311 non-null   float64\n",
      " 39  amenities                                     1324 non-null   object \n",
      " 40  price                                         1324 non-null   object \n",
      " 41  minimum_nights                                1324 non-null   int64  \n",
      " 42  maximum_nights                                1324 non-null   int64  \n",
      " 43  minimum_minimum_nights                        1324 non-null   int64  \n",
      " 44  maximum_minimum_nights                        1324 non-null   int64  \n",
      " 45  minimum_maximum_nights                        1324 non-null   int64  \n",
      " 46  maximum_maximum_nights                        1324 non-null   int64  \n",
      " 47  minimum_nights_avg_ntm                        1324 non-null   float64\n",
      " 48  maximum_nights_avg_ntm                        1324 non-null   float64\n",
      " 49  calendar_updated                              0 non-null      float64\n",
      " 50  has_availability                              1324 non-null   object \n",
      " 51  availability_30                               1324 non-null   int64  \n",
      " 52  availability_60                               1324 non-null   int64  \n",
      " 53  availability_90                               1324 non-null   int64  \n",
      " 54  availability_365                              1324 non-null   int64  \n",
      " 55  calendar_last_scraped                         1324 non-null   object \n",
      " 56  number_of_reviews                             1324 non-null   int64  \n",
      " 57  number_of_reviews_ltm                         1324 non-null   int64  \n",
      " 58  number_of_reviews_l30d                        1324 non-null   int64  \n",
      " 59  first_review                                  1055 non-null   object \n",
      " 60  last_review                                   1055 non-null   object \n",
      " 61  review_scores_rating                          1055 non-null   float64\n",
      " 62  review_scores_accuracy                        1051 non-null   float64\n",
      " 63  review_scores_cleanliness                     1051 non-null   float64\n",
      " 64  review_scores_checkin                         1051 non-null   float64\n",
      " 65  review_scores_communication                   1051 non-null   float64\n",
      " 66  review_scores_location                        1051 non-null   float64\n",
      " 67  review_scores_value                           1051 non-null   float64\n",
      " 68  license                                       50 non-null     object \n",
      " 69  instant_bookable                              1324 non-null   object \n",
      " 70  calculated_host_listings_count                1324 non-null   int64  \n",
      " 71  calculated_host_listings_count_entire_homes   1324 non-null   int64  \n",
      " 72  calculated_host_listings_count_private_rooms  1324 non-null   int64  \n",
      " 73  calculated_host_listings_count_shared_rooms   1324 non-null   int64  \n",
      " 74  reviews_per_month                             1055 non-null   float64\n",
      "dtypes: float64(17), int64(23), object(35)\n",
      "memory usage: 775.9+ KB\n"
     ]
    }
   ],
   "source": [
    "data.info()"
   ],
   "metadata": {
    "collapsed": false,
    "ExecuteTime": {
     "end_time": "2023-12-17T23:15:00.175320800Z",
     "start_time": "2023-12-17T23:15:00.148149900Z"
    }
   },
   "id": "b02283cbcbcb69b6"
  },
  {
   "cell_type": "markdown",
   "source": [
    "# Wyświetlenie rozmiaru zbioru danych"
   ],
   "metadata": {
    "collapsed": false
   },
   "id": "f43be9a7d8e8682f"
  },
  {
   "cell_type": "code",
   "execution_count": 5,
   "outputs": [
    {
     "name": "stdout",
     "output_type": "stream",
     "text": [
      "1324 75\n"
     ]
    }
   ],
   "source": [
    "num_rows, num_cols = data.shape\n",
    "print(num_rows, num_cols)"
   ],
   "metadata": {
    "collapsed": false,
    "ExecuteTime": {
     "end_time": "2023-12-17T23:15:00.175818500Z",
     "start_time": "2023-12-17T23:15:00.158671400Z"
    }
   },
   "id": "52e3f07b4a9d1927"
  },
  {
   "cell_type": "markdown",
   "source": [],
   "metadata": {
    "collapsed": false
   },
   "id": "f2f106c38e105f97"
  },
  {
   "cell_type": "markdown",
   "source": [
    "# Mamy 75 kolumn i 1324 wiersze, wiekszość danych jest typu object więc będzie konieczna zamiana na konktretny odpowiedni typ. po wstępnym przeglądzie danych widać że niektóre kolumny są puste więc być może muszą zostać usunięte ponieważ nic nie wniosą do analizy, należy też sprawdzić czy nie można ich jakoś uzupełnić "
   ],
   "metadata": {
    "collapsed": false
   },
   "id": "5a28a412dd8ab15b"
  },
  {
   "cell_type": "markdown",
   "source": [
    "# Wyświetlenie samych typów kolumn"
   ],
   "metadata": {
    "collapsed": false
   },
   "id": "3387abb4c903258f"
  },
  {
   "cell_type": "markdown",
   "source": [],
   "metadata": {
    "collapsed": false
   },
   "id": "d460d69bf432668e"
  },
  {
   "cell_type": "code",
   "execution_count": 6,
   "outputs": [
    {
     "data": {
      "text/plain": "id                                                int64\nlisting_url                                      object\nscrape_id                                         int64\nlast_scraped                                     object\nsource                                           object\n                                                 ...   \ncalculated_host_listings_count                    int64\ncalculated_host_listings_count_entire_homes       int64\ncalculated_host_listings_count_private_rooms      int64\ncalculated_host_listings_count_shared_rooms       int64\nreviews_per_month                               float64\nLength: 75, dtype: object"
     },
     "execution_count": 6,
     "metadata": {},
     "output_type": "execute_result"
    }
   ],
   "source": [
    "data_type = data.dtypes\n",
    "data_type"
   ],
   "metadata": {
    "collapsed": false,
    "ExecuteTime": {
     "end_time": "2023-12-17T23:15:00.208108400Z",
     "start_time": "2023-12-17T23:15:00.161036600Z"
    }
   },
   "id": "26b3b856c67aa749"
  },
  {
   "cell_type": "markdown",
   "source": [
    "# Zamiana typów\n",
    "## Teraz przeprowadze analize wszystkich kolumn i gdzie trzeba to zamienie na odpowiednie typy"
   ],
   "metadata": {
    "collapsed": false
   },
   "id": "d45172a6a796463b"
  },
  {
   "cell_type": "code",
   "execution_count": 7,
   "outputs": [
    {
     "data": {
      "text/plain": "                      id                                      listing_url  \\\n0                  40669               https://www.airbnb.com/rooms/40669   \n1                 215768              https://www.airbnb.com/rooms/215768   \n2                 254245              https://www.airbnb.com/rooms/254245   \n3                 269266              https://www.airbnb.com/rooms/269266   \n4                 270245              https://www.airbnb.com/rooms/270245   \n...                  ...                                              ...   \n1319  980482250747395799  https://www.airbnb.com/rooms/980482250747395799   \n1320  981050569727129557  https://www.airbnb.com/rooms/981050569727129557   \n1321  981716811722485393  https://www.airbnb.com/rooms/981716811722485393   \n1322  981829528456499146  https://www.airbnb.com/rooms/981829528456499146   \n1323  982161671070648813  https://www.airbnb.com/rooms/982161671070648813   \n\n           scrape_id last_scraped       source  \n0     20230918050414   2023-09-18  city scrape  \n1     20230918050414   2023-09-18  city scrape  \n2     20230918050414   2023-09-18  city scrape  \n3     20230918050414   2023-09-18  city scrape  \n4     20230918050414   2023-09-18  city scrape  \n...              ...          ...          ...  \n1319  20230918050414   2023-09-18  city scrape  \n1320  20230918050414   2023-09-18  city scrape  \n1321  20230918050414   2023-09-18  city scrape  \n1322  20230918050414   2023-09-18  city scrape  \n1323  20230918050414   2023-09-18  city scrape  \n\n[1324 rows x 5 columns]",
      "text/html": "<div>\n<style scoped>\n    .dataframe tbody tr th:only-of-type {\n        vertical-align: middle;\n    }\n\n    .dataframe tbody tr th {\n        vertical-align: top;\n    }\n\n    .dataframe thead th {\n        text-align: right;\n    }\n</style>\n<table border=\"1\" class=\"dataframe\">\n  <thead>\n    <tr style=\"text-align: right;\">\n      <th></th>\n      <th>id</th>\n      <th>listing_url</th>\n      <th>scrape_id</th>\n      <th>last_scraped</th>\n      <th>source</th>\n    </tr>\n  </thead>\n  <tbody>\n    <tr>\n      <th>0</th>\n      <td>40669</td>\n      <td>https://www.airbnb.com/rooms/40669</td>\n      <td>20230918050414</td>\n      <td>2023-09-18</td>\n      <td>city scrape</td>\n    </tr>\n    <tr>\n      <th>1</th>\n      <td>215768</td>\n      <td>https://www.airbnb.com/rooms/215768</td>\n      <td>20230918050414</td>\n      <td>2023-09-18</td>\n      <td>city scrape</td>\n    </tr>\n    <tr>\n      <th>2</th>\n      <td>254245</td>\n      <td>https://www.airbnb.com/rooms/254245</td>\n      <td>20230918050414</td>\n      <td>2023-09-18</td>\n      <td>city scrape</td>\n    </tr>\n    <tr>\n      <th>3</th>\n      <td>269266</td>\n      <td>https://www.airbnb.com/rooms/269266</td>\n      <td>20230918050414</td>\n      <td>2023-09-18</td>\n      <td>city scrape</td>\n    </tr>\n    <tr>\n      <th>4</th>\n      <td>270245</td>\n      <td>https://www.airbnb.com/rooms/270245</td>\n      <td>20230918050414</td>\n      <td>2023-09-18</td>\n      <td>city scrape</td>\n    </tr>\n    <tr>\n      <th>...</th>\n      <td>...</td>\n      <td>...</td>\n      <td>...</td>\n      <td>...</td>\n      <td>...</td>\n    </tr>\n    <tr>\n      <th>1319</th>\n      <td>980482250747395799</td>\n      <td>https://www.airbnb.com/rooms/980482250747395799</td>\n      <td>20230918050414</td>\n      <td>2023-09-18</td>\n      <td>city scrape</td>\n    </tr>\n    <tr>\n      <th>1320</th>\n      <td>981050569727129557</td>\n      <td>https://www.airbnb.com/rooms/981050569727129557</td>\n      <td>20230918050414</td>\n      <td>2023-09-18</td>\n      <td>city scrape</td>\n    </tr>\n    <tr>\n      <th>1321</th>\n      <td>981716811722485393</td>\n      <td>https://www.airbnb.com/rooms/981716811722485393</td>\n      <td>20230918050414</td>\n      <td>2023-09-18</td>\n      <td>city scrape</td>\n    </tr>\n    <tr>\n      <th>1322</th>\n      <td>981829528456499146</td>\n      <td>https://www.airbnb.com/rooms/981829528456499146</td>\n      <td>20230918050414</td>\n      <td>2023-09-18</td>\n      <td>city scrape</td>\n    </tr>\n    <tr>\n      <th>1323</th>\n      <td>982161671070648813</td>\n      <td>https://www.airbnb.com/rooms/982161671070648813</td>\n      <td>20230918050414</td>\n      <td>2023-09-18</td>\n      <td>city scrape</td>\n    </tr>\n  </tbody>\n</table>\n<p>1324 rows × 5 columns</p>\n</div>"
     },
     "execution_count": 7,
     "metadata": {},
     "output_type": "execute_result"
    }
   ],
   "source": [
    "data.iloc[:, :5]"
   ],
   "metadata": {
    "collapsed": false,
    "ExecuteTime": {
     "end_time": "2023-12-17T23:15:00.256294100Z",
     "start_time": "2023-12-17T23:15:00.165297900Z"
    }
   },
   "id": "647a1019fbb45053"
  },
  {
   "cell_type": "code",
   "execution_count": 8,
   "outputs": [
    {
     "data": {
      "text/plain": "source\ncity scrape        1291\nprevious scrape      33\nName: count, dtype: int64"
     },
     "execution_count": 8,
     "metadata": {},
     "output_type": "execute_result"
    }
   ],
   "source": [
    "data['id'].duplicated().any()\n",
    "data['source'].value_counts()"
   ],
   "metadata": {
    "collapsed": false,
    "ExecuteTime": {
     "end_time": "2023-12-17T23:15:00.257800Z",
     "start_time": "2023-12-17T23:15:00.171589900Z"
    }
   },
   "id": "57c7dff92cde209a"
  },
  {
   "cell_type": "markdown",
   "source": [
    "# typ int64 to dobry typ dla kolumny id, każde id jest unikalne\n",
    "# listing_url to adres url ogłoszeń, można to zamienić na string\n",
    "# scrape_id dobry typ\n",
    "# last_scraped - moża zmienić na date\n",
    "# source - można zmienić na kategorie\n"
   ],
   "metadata": {
    "collapsed": false
   },
   "id": "96b11a2128d80021"
  },
  {
   "cell_type": "code",
   "execution_count": 9,
   "outputs": [],
   "source": [
    "data['listing_url'] = data['listing_url'].astype('string')\n",
    "data['listing_url'] = data['listing_url'].astype('string')\n",
    "data['last_scraped'] = pd.to_datetime(data['last_scraped'])\n",
    "data['source'] = data['source'].astype('category')"
   ],
   "metadata": {
    "collapsed": false,
    "ExecuteTime": {
     "end_time": "2023-12-17T23:15:00.289214400Z",
     "start_time": "2023-12-17T23:15:00.174318400Z"
    }
   },
   "id": "e9c4a579a9c4efe6"
  },
  {
   "cell_type": "code",
   "execution_count": 10,
   "outputs": [
    {
     "data": {
      "text/plain": "                                                   name  \\\n0     Condo in Jersey City · ★5.0 · 1 bedroom · 1 be...   \n1     Home in Jersey City · ★4.77 · 1 bedroom · 2 be...   \n2     Home in Jersey City · ★4.76 · 1 bedroom · 1 be...   \n3     Rental unit in Jersey City · ★4.36 · 2 bedroom...   \n4     Townhouse in Jersey City · ★4.55 · 1 bedroom ·...   \n...                                                 ...   \n1319  Rental unit in Jersey City · ★New · 1 bedroom ...   \n1320  Rental unit in Jersey City · ★New · 1 bedroom ...   \n1321  Rental unit in Jersey City · ★New · 1 bedroom ...   \n1322  Home in Bayonne · ★New · 1 bedroom · 1 bed · 1...   \n1323  Home in Jersey City · ★New · 3 bedrooms · 3 be...   \n\n                                            description  \\\n0     <b>The space</b><br />Skyy’s Lounge ....Everyt...   \n1     Walking to distance to Statue of Liberty and E...   \n2     Walking to distance to Statue of Liberty and E...   \n3     Enjoy that private luxury two bedrooms apartme...   \n4     Just for you small bedroom with private bathro...   \n...                                                 ...   \n1319  Safe location, charming place , 2-3 min walkin...   \n1320  Welcome to our inviting shared bedroom at Jers...   \n1321         This unique place has a style all its own.   \n1322  The room has an excellent location, it is a qu...   \n1323  Lleva a toda la familia a este fantástico luga...   \n\n                                  neighborhood_overview  \\\n0     The neighborhood is very diverse & friendly sh...   \n1     Such close proximity to NYC, 7 minutes on the ...   \n2     Such close proximity to NYC, 7 minutes on the ...   \n3     Our House is located in the Liberty State Park...   \n4                                                   NaN   \n...                                                 ...   \n1319                                                NaN   \n1320  Our apartment is strategically located, making...   \n1321                                                NaN   \n1322                                                NaN   \n1323                                                NaN   \n\n                                            picture_url    host_id  \n0     https://a0.muscache.com/pictures/af7e4a45-0118...     175412  \n1     https://a0.muscache.com/pictures/miso/Hosting-...     846837  \n2     https://a0.muscache.com/pictures/miso/Hosting-...     846837  \n3     https://a0.muscache.com/pictures/miso/Hosting-...    1410590  \n4     https://a0.muscache.com/pictures/miso/Hosting-...    1410590  \n...                                                 ...        ...  \n1319  https://a0.muscache.com/pictures/hosting/Hosti...  536701303  \n1320  https://a0.muscache.com/pictures/miso/Hosting-...  513781380  \n1321  https://a0.muscache.com/pictures/75b1cfdc-3b1d...   98240103  \n1322  https://a0.muscache.com/pictures/hosting/Hosti...  333174348  \n1323  https://a0.muscache.com/pictures/hosting/Hosti...  537476710  \n\n[1324 rows x 5 columns]",
      "text/html": "<div>\n<style scoped>\n    .dataframe tbody tr th:only-of-type {\n        vertical-align: middle;\n    }\n\n    .dataframe tbody tr th {\n        vertical-align: top;\n    }\n\n    .dataframe thead th {\n        text-align: right;\n    }\n</style>\n<table border=\"1\" class=\"dataframe\">\n  <thead>\n    <tr style=\"text-align: right;\">\n      <th></th>\n      <th>name</th>\n      <th>description</th>\n      <th>neighborhood_overview</th>\n      <th>picture_url</th>\n      <th>host_id</th>\n    </tr>\n  </thead>\n  <tbody>\n    <tr>\n      <th>0</th>\n      <td>Condo in Jersey City · ★5.0 · 1 bedroom · 1 be...</td>\n      <td>&lt;b&gt;The space&lt;/b&gt;&lt;br /&gt;Skyy’s Lounge ....Everyt...</td>\n      <td>The neighborhood is very diverse &amp; friendly sh...</td>\n      <td>https://a0.muscache.com/pictures/af7e4a45-0118...</td>\n      <td>175412</td>\n    </tr>\n    <tr>\n      <th>1</th>\n      <td>Home in Jersey City · ★4.77 · 1 bedroom · 2 be...</td>\n      <td>Walking to distance to Statue of Liberty and E...</td>\n      <td>Such close proximity to NYC, 7 minutes on the ...</td>\n      <td>https://a0.muscache.com/pictures/miso/Hosting-...</td>\n      <td>846837</td>\n    </tr>\n    <tr>\n      <th>2</th>\n      <td>Home in Jersey City · ★4.76 · 1 bedroom · 1 be...</td>\n      <td>Walking to distance to Statue of Liberty and E...</td>\n      <td>Such close proximity to NYC, 7 minutes on the ...</td>\n      <td>https://a0.muscache.com/pictures/miso/Hosting-...</td>\n      <td>846837</td>\n    </tr>\n    <tr>\n      <th>3</th>\n      <td>Rental unit in Jersey City · ★4.36 · 2 bedroom...</td>\n      <td>Enjoy that private luxury two bedrooms apartme...</td>\n      <td>Our House is located in the Liberty State Park...</td>\n      <td>https://a0.muscache.com/pictures/miso/Hosting-...</td>\n      <td>1410590</td>\n    </tr>\n    <tr>\n      <th>4</th>\n      <td>Townhouse in Jersey City · ★4.55 · 1 bedroom ·...</td>\n      <td>Just for you small bedroom with private bathro...</td>\n      <td>NaN</td>\n      <td>https://a0.muscache.com/pictures/miso/Hosting-...</td>\n      <td>1410590</td>\n    </tr>\n    <tr>\n      <th>...</th>\n      <td>...</td>\n      <td>...</td>\n      <td>...</td>\n      <td>...</td>\n      <td>...</td>\n    </tr>\n    <tr>\n      <th>1319</th>\n      <td>Rental unit in Jersey City · ★New · 1 bedroom ...</td>\n      <td>Safe location, charming place , 2-3 min walkin...</td>\n      <td>NaN</td>\n      <td>https://a0.muscache.com/pictures/hosting/Hosti...</td>\n      <td>536701303</td>\n    </tr>\n    <tr>\n      <th>1320</th>\n      <td>Rental unit in Jersey City · ★New · 1 bedroom ...</td>\n      <td>Welcome to our inviting shared bedroom at Jers...</td>\n      <td>Our apartment is strategically located, making...</td>\n      <td>https://a0.muscache.com/pictures/miso/Hosting-...</td>\n      <td>513781380</td>\n    </tr>\n    <tr>\n      <th>1321</th>\n      <td>Rental unit in Jersey City · ★New · 1 bedroom ...</td>\n      <td>This unique place has a style all its own.</td>\n      <td>NaN</td>\n      <td>https://a0.muscache.com/pictures/75b1cfdc-3b1d...</td>\n      <td>98240103</td>\n    </tr>\n    <tr>\n      <th>1322</th>\n      <td>Home in Bayonne · ★New · 1 bedroom · 1 bed · 1...</td>\n      <td>The room has an excellent location, it is a qu...</td>\n      <td>NaN</td>\n      <td>https://a0.muscache.com/pictures/hosting/Hosti...</td>\n      <td>333174348</td>\n    </tr>\n    <tr>\n      <th>1323</th>\n      <td>Home in Jersey City · ★New · 3 bedrooms · 3 be...</td>\n      <td>Lleva a toda la familia a este fantástico luga...</td>\n      <td>NaN</td>\n      <td>https://a0.muscache.com/pictures/hosting/Hosti...</td>\n      <td>537476710</td>\n    </tr>\n  </tbody>\n</table>\n<p>1324 rows × 5 columns</p>\n</div>"
     },
     "execution_count": 10,
     "metadata": {},
     "output_type": "execute_result"
    }
   ],
   "source": [
    "data.iloc[:, 5:10]"
   ],
   "metadata": {
    "collapsed": false,
    "ExecuteTime": {
     "end_time": "2023-12-17T23:15:00.291216900Z",
     "start_time": "2023-12-17T23:15:00.180379500Z"
    }
   },
   "id": "924bd59a681dbd6f"
  },
  {
   "cell_type": "markdown",
   "source": [
    "# Wygląda na to że odpowiedni typ dla kolumn od name do picture_url to string \n",
    "# host_id ma odpowiedni typ"
   ],
   "metadata": {
    "collapsed": false
   },
   "id": "4b1a312b7719ce4b"
  },
  {
   "cell_type": "code",
   "execution_count": 11,
   "outputs": [],
   "source": [
    "data['name'] = data['name'].astype('string')\n",
    "data['description'] = data['description'].astype('string')\n",
    "data['neighborhood_overview'] = data['neighborhood_overview'].astype('string')\n",
    "data['picture_url'] = data['picture_url'].astype('string')"
   ],
   "metadata": {
    "collapsed": false,
    "ExecuteTime": {
     "end_time": "2023-12-17T23:15:00.291713700Z",
     "start_time": "2023-12-17T23:15:00.187045200Z"
    }
   },
   "id": "5838183b5918978f"
  },
  {
   "cell_type": "code",
   "execution_count": 12,
   "outputs": [
    {
     "data": {
      "text/plain": "                                         host_url  host_name  host_since  \\\n0        https://www.airbnb.com/users/show/175412       Skyy  2010-07-20   \n1        https://www.airbnb.com/users/show/846837  Charlaine  2011-07-20   \n2        https://www.airbnb.com/users/show/846837  Charlaine  2011-07-20   \n3       https://www.airbnb.com/users/show/1410590      Magda  2011-11-15   \n4       https://www.airbnb.com/users/show/1410590      Magda  2011-11-15   \n...                                           ...        ...         ...   \n1319  https://www.airbnb.com/users/show/536701303      Fares  2023-09-11   \n1320  https://www.airbnb.com/users/show/513781380         Jc  2023-05-08   \n1321   https://www.airbnb.com/users/show/98240103      Julio  2016-10-05   \n1322  https://www.airbnb.com/users/show/333174348    Winston  2020-02-03   \n1323  https://www.airbnb.com/users/show/537476710     Jose A  2023-09-16   \n\n        host_location                                         host_about  \n0     Jersey City, NJ  I am the owner of a high end Nail Salon in the...  \n1     Jersey City, NJ  Thank you for taking the time to learn a bit a...  \n2     Jersey City, NJ  Thank you for taking the time to learn a bit a...  \n3     Jersey City, NJ  I am living in New York City area  for several...  \n4     Jersey City, NJ  I am living in New York City area  for several...  \n...               ...                                                ...  \n1319              NaN                                                NaN  \n1320  Jersey City, NJ  JC Livin is a small business that specializes ...  \n1321  Jersey City, NJ  My Name is Julio Gallardo and I am married to ...  \n1322              NaN                                                NaN  \n1323  Jersey City, NJ                                                NaN  \n\n[1324 rows x 5 columns]",
      "text/html": "<div>\n<style scoped>\n    .dataframe tbody tr th:only-of-type {\n        vertical-align: middle;\n    }\n\n    .dataframe tbody tr th {\n        vertical-align: top;\n    }\n\n    .dataframe thead th {\n        text-align: right;\n    }\n</style>\n<table border=\"1\" class=\"dataframe\">\n  <thead>\n    <tr style=\"text-align: right;\">\n      <th></th>\n      <th>host_url</th>\n      <th>host_name</th>\n      <th>host_since</th>\n      <th>host_location</th>\n      <th>host_about</th>\n    </tr>\n  </thead>\n  <tbody>\n    <tr>\n      <th>0</th>\n      <td>https://www.airbnb.com/users/show/175412</td>\n      <td>Skyy</td>\n      <td>2010-07-20</td>\n      <td>Jersey City, NJ</td>\n      <td>I am the owner of a high end Nail Salon in the...</td>\n    </tr>\n    <tr>\n      <th>1</th>\n      <td>https://www.airbnb.com/users/show/846837</td>\n      <td>Charlaine</td>\n      <td>2011-07-20</td>\n      <td>Jersey City, NJ</td>\n      <td>Thank you for taking the time to learn a bit a...</td>\n    </tr>\n    <tr>\n      <th>2</th>\n      <td>https://www.airbnb.com/users/show/846837</td>\n      <td>Charlaine</td>\n      <td>2011-07-20</td>\n      <td>Jersey City, NJ</td>\n      <td>Thank you for taking the time to learn a bit a...</td>\n    </tr>\n    <tr>\n      <th>3</th>\n      <td>https://www.airbnb.com/users/show/1410590</td>\n      <td>Magda</td>\n      <td>2011-11-15</td>\n      <td>Jersey City, NJ</td>\n      <td>I am living in New York City area  for several...</td>\n    </tr>\n    <tr>\n      <th>4</th>\n      <td>https://www.airbnb.com/users/show/1410590</td>\n      <td>Magda</td>\n      <td>2011-11-15</td>\n      <td>Jersey City, NJ</td>\n      <td>I am living in New York City area  for several...</td>\n    </tr>\n    <tr>\n      <th>...</th>\n      <td>...</td>\n      <td>...</td>\n      <td>...</td>\n      <td>...</td>\n      <td>...</td>\n    </tr>\n    <tr>\n      <th>1319</th>\n      <td>https://www.airbnb.com/users/show/536701303</td>\n      <td>Fares</td>\n      <td>2023-09-11</td>\n      <td>NaN</td>\n      <td>NaN</td>\n    </tr>\n    <tr>\n      <th>1320</th>\n      <td>https://www.airbnb.com/users/show/513781380</td>\n      <td>Jc</td>\n      <td>2023-05-08</td>\n      <td>Jersey City, NJ</td>\n      <td>JC Livin is a small business that specializes ...</td>\n    </tr>\n    <tr>\n      <th>1321</th>\n      <td>https://www.airbnb.com/users/show/98240103</td>\n      <td>Julio</td>\n      <td>2016-10-05</td>\n      <td>Jersey City, NJ</td>\n      <td>My Name is Julio Gallardo and I am married to ...</td>\n    </tr>\n    <tr>\n      <th>1322</th>\n      <td>https://www.airbnb.com/users/show/333174348</td>\n      <td>Winston</td>\n      <td>2020-02-03</td>\n      <td>NaN</td>\n      <td>NaN</td>\n    </tr>\n    <tr>\n      <th>1323</th>\n      <td>https://www.airbnb.com/users/show/537476710</td>\n      <td>Jose A</td>\n      <td>2023-09-16</td>\n      <td>Jersey City, NJ</td>\n      <td>NaN</td>\n    </tr>\n  </tbody>\n</table>\n<p>1324 rows × 5 columns</p>\n</div>"
     },
     "execution_count": 12,
     "metadata": {},
     "output_type": "execute_result"
    }
   ],
   "source": [
    "data.iloc[:, 10:15]"
   ],
   "metadata": {
    "collapsed": false,
    "ExecuteTime": {
     "end_time": "2023-12-17T23:15:00.292713Z",
     "start_time": "2023-12-17T23:15:00.190739400Z"
    }
   },
   "id": "3f29481f73ffbe06"
  },
  {
   "cell_type": "code",
   "execution_count": 13,
   "outputs": [
    {
     "data": {
      "text/plain": "host_location\nJersey City, NJ              541\nNew York, NY                 273\nHawthorne, NJ                 39\nRidgewood, NJ                 35\nNew Jersey, United States     27\nNew York, United States       25\nWeehawken, NJ                 10\nHoboken, NJ                   10\nUnited States                  8\nLos Angeles, CA                6\nEdison, NJ                     5\nMedellín, Colombia             5\nWest New York, NJ              4\nCarlstadt, NJ                  4\nWayne, NJ                      4\nChicago, IL                    4\nRidgefield Park, NJ            2\nBayonne, NJ                    2\nHarrison, NJ                   2\nKeene Valley, NY               2\nLas Vegas, NV                  2\nLackawaxen, PA                 2\nElizabeth, NJ                  2\nCharlotte, NC                  1\nPanama                         1\nEast Orange, NJ                1\nHeidelberg, Germany            1\nLondon, United Kingdom         1\nWatertown, NY                  1\nHolmdel, NJ                    1\nClark, NJ                      1\nTampa, FL                      1\nBelleville, NJ                 1\nRichmond, VA                   1\nMiami, FL                      1\nUnion City, NJ                 1\nBoston, MA                     1\nCape Elizabeth, ME             1\nNew Castle, DE                 1\nGarfield, NJ                   1\nMorristown, NJ                 1\nAsbury Park, NJ                1\nNorth Miami Beach, FL          1\nCalifornia, United States      1\nNorth Bergen, NJ               1\nNeptune City, NJ               1\nDallas, TX                     1\nFranklin Township, NJ          1\nNewark, NJ                     1\nUnion, NJ                      1\nSag Harbor, NY                 1\nSouth Orange, NJ               1\nNew York, IA                   1\nWhite Plains, NY               1\nPlainfield, NJ                 1\nKuwait City, Kuwait            1\nName: count, dtype: int64"
     },
     "execution_count": 13,
     "metadata": {},
     "output_type": "execute_result"
    }
   ],
   "source": [
    "data['host_location'].value_counts()"
   ],
   "metadata": {
    "collapsed": false,
    "ExecuteTime": {
     "end_time": "2023-12-17T23:15:00.293215800Z",
     "start_time": "2023-12-17T23:15:00.196110900Z"
    }
   },
   "id": "c77de36e85c9fee2"
  },
  {
   "cell_type": "code",
   "execution_count": 14,
   "outputs": [
    {
     "data": {
      "text/plain": "56"
     },
     "execution_count": 14,
     "metadata": {},
     "output_type": "execute_result"
    }
   ],
   "source": [
    "data['host_location'].value_counts().count()"
   ],
   "metadata": {
    "collapsed": false,
    "ExecuteTime": {
     "end_time": "2023-12-17T23:15:00.304714700Z",
     "start_time": "2023-12-17T23:15:00.201845900Z"
    }
   },
   "id": "364513c5a9778283"
  },
  {
   "cell_type": "markdown",
   "source": [
    "# host_url, host_name, host_about - zamiana na typ string\n",
    "# host_since - zamiana na date\n",
    "# host_location - po sprawdzeniu ilości unikalnych wartości zdecydowałem się na typ string\n"
   ],
   "metadata": {
    "collapsed": false
   },
   "id": "c86aec99561accc"
  },
  {
   "cell_type": "code",
   "execution_count": 15,
   "outputs": [],
   "source": [
    "data['host_url'] = data['host_url'].astype('string')\n",
    "data['host_name'] = data['host_name'].astype('string')\n",
    "data['host_since'] = pd.to_datetime(data['host_since'], errors='coerce')\n",
    "data['host_location'] = data['host_location'].astype('string')\n",
    "data['host_about'] = data['host_about'].astype('string')"
   ],
   "metadata": {
    "collapsed": false,
    "ExecuteTime": {
     "end_time": "2023-12-17T23:15:00.306713900Z",
     "start_time": "2023-12-17T23:15:00.206359600Z"
    }
   },
   "id": "923c9f8d8000023e"
  },
  {
   "cell_type": "code",
   "execution_count": 16,
   "outputs": [
    {
     "data": {
      "text/plain": "     host_response_time host_response_rate host_acceptance_rate  \\\n0          within a day                71%                  60%   \n1        within an hour               100%                  99%   \n2        within an hour               100%                  99%   \n3        within an hour               100%                 100%   \n4        within an hour               100%                 100%   \n...                 ...                ...                  ...   \n1319                NaN                NaN                 100%   \n1320     within an hour               100%                  96%   \n1321     within an hour               100%                  99%   \n1322                NaN                NaN                  NaN   \n1323                NaN                NaN                  NaN   \n\n     host_is_superhost                                 host_thumbnail_url  \n0                    f  https://a0.muscache.com/im/users/175412/profil...  \n1                    t  https://a0.muscache.com/im/pictures/user/User-...  \n2                    t  https://a0.muscache.com/im/pictures/user/User-...  \n3                    f  https://a0.muscache.com/im/users/1410590/profi...  \n4                    f  https://a0.muscache.com/im/users/1410590/profi...  \n...                ...                                                ...  \n1319                 f  https://a0.muscache.com/im/pictures/user/User-...  \n1320                 f  https://a0.muscache.com/im/pictures/user/User-...  \n1321                 f  https://a0.muscache.com/im/pictures/user/1918a...  \n1322                 f  https://a0.muscache.com/im/pictures/user/ce737...  \n1323                 f  https://a0.muscache.com/im/pictures/user/User-...  \n\n[1324 rows x 5 columns]",
      "text/html": "<div>\n<style scoped>\n    .dataframe tbody tr th:only-of-type {\n        vertical-align: middle;\n    }\n\n    .dataframe tbody tr th {\n        vertical-align: top;\n    }\n\n    .dataframe thead th {\n        text-align: right;\n    }\n</style>\n<table border=\"1\" class=\"dataframe\">\n  <thead>\n    <tr style=\"text-align: right;\">\n      <th></th>\n      <th>host_response_time</th>\n      <th>host_response_rate</th>\n      <th>host_acceptance_rate</th>\n      <th>host_is_superhost</th>\n      <th>host_thumbnail_url</th>\n    </tr>\n  </thead>\n  <tbody>\n    <tr>\n      <th>0</th>\n      <td>within a day</td>\n      <td>71%</td>\n      <td>60%</td>\n      <td>f</td>\n      <td>https://a0.muscache.com/im/users/175412/profil...</td>\n    </tr>\n    <tr>\n      <th>1</th>\n      <td>within an hour</td>\n      <td>100%</td>\n      <td>99%</td>\n      <td>t</td>\n      <td>https://a0.muscache.com/im/pictures/user/User-...</td>\n    </tr>\n    <tr>\n      <th>2</th>\n      <td>within an hour</td>\n      <td>100%</td>\n      <td>99%</td>\n      <td>t</td>\n      <td>https://a0.muscache.com/im/pictures/user/User-...</td>\n    </tr>\n    <tr>\n      <th>3</th>\n      <td>within an hour</td>\n      <td>100%</td>\n      <td>100%</td>\n      <td>f</td>\n      <td>https://a0.muscache.com/im/users/1410590/profi...</td>\n    </tr>\n    <tr>\n      <th>4</th>\n      <td>within an hour</td>\n      <td>100%</td>\n      <td>100%</td>\n      <td>f</td>\n      <td>https://a0.muscache.com/im/users/1410590/profi...</td>\n    </tr>\n    <tr>\n      <th>...</th>\n      <td>...</td>\n      <td>...</td>\n      <td>...</td>\n      <td>...</td>\n      <td>...</td>\n    </tr>\n    <tr>\n      <th>1319</th>\n      <td>NaN</td>\n      <td>NaN</td>\n      <td>100%</td>\n      <td>f</td>\n      <td>https://a0.muscache.com/im/pictures/user/User-...</td>\n    </tr>\n    <tr>\n      <th>1320</th>\n      <td>within an hour</td>\n      <td>100%</td>\n      <td>96%</td>\n      <td>f</td>\n      <td>https://a0.muscache.com/im/pictures/user/User-...</td>\n    </tr>\n    <tr>\n      <th>1321</th>\n      <td>within an hour</td>\n      <td>100%</td>\n      <td>99%</td>\n      <td>f</td>\n      <td>https://a0.muscache.com/im/pictures/user/1918a...</td>\n    </tr>\n    <tr>\n      <th>1322</th>\n      <td>NaN</td>\n      <td>NaN</td>\n      <td>NaN</td>\n      <td>f</td>\n      <td>https://a0.muscache.com/im/pictures/user/ce737...</td>\n    </tr>\n    <tr>\n      <th>1323</th>\n      <td>NaN</td>\n      <td>NaN</td>\n      <td>NaN</td>\n      <td>f</td>\n      <td>https://a0.muscache.com/im/pictures/user/User-...</td>\n    </tr>\n  </tbody>\n</table>\n<p>1324 rows × 5 columns</p>\n</div>"
     },
     "execution_count": 16,
     "metadata": {},
     "output_type": "execute_result"
    }
   ],
   "source": [
    "data.iloc[:, 15:20]"
   ],
   "metadata": {
    "collapsed": false,
    "ExecuteTime": {
     "end_time": "2023-12-17T23:15:00.308216200Z",
     "start_time": "2023-12-17T23:15:00.210112900Z"
    }
   },
   "id": "cace117913794f34"
  },
  {
   "cell_type": "code",
   "execution_count": 17,
   "outputs": [
    {
     "data": {
      "text/plain": "host_response_time\nwithin an hour        1014\nwithin a few hours     134\nwithin a day            91\na few days or more      52\nName: count, dtype: int64"
     },
     "execution_count": 17,
     "metadata": {},
     "output_type": "execute_result"
    }
   ],
   "source": [
    "data['host_response_time'].value_counts()"
   ],
   "metadata": {
    "collapsed": false,
    "ExecuteTime": {
     "end_time": "2023-12-17T23:15:00.320217800Z",
     "start_time": "2023-12-17T23:15:00.215667200Z"
    }
   },
   "id": "7d817636cff2428b"
  },
  {
   "cell_type": "code",
   "execution_count": 18,
   "outputs": [
    {
     "data": {
      "text/plain": "host_is_superhost\nf    920\nt    384\nName: count, dtype: int64"
     },
     "execution_count": 18,
     "metadata": {},
     "output_type": "execute_result"
    }
   ],
   "source": [
    "data['host_is_superhost'].value_counts()"
   ],
   "metadata": {
    "collapsed": false,
    "ExecuteTime": {
     "end_time": "2023-12-17T23:15:00.321219300Z",
     "start_time": "2023-12-17T23:15:00.220544100Z"
    }
   },
   "id": "525b0b89184720f9"
  },
  {
   "cell_type": "code",
   "execution_count": 19,
   "outputs": [
    {
     "data": {
      "text/plain": "True"
     },
     "execution_count": 19,
     "metadata": {},
     "output_type": "execute_result"
    }
   ],
   "source": [
    "data['host_acceptance_rate'].str.contains('%').all()"
   ],
   "metadata": {
    "collapsed": false,
    "ExecuteTime": {
     "end_time": "2023-12-17T23:15:00.321718800Z",
     "start_time": "2023-12-17T23:15:00.224853300Z"
    }
   },
   "id": "e93624c0d542b9b5"
  },
  {
   "cell_type": "code",
   "execution_count": 20,
   "outputs": [
    {
     "data": {
      "text/plain": "True"
     },
     "execution_count": 20,
     "metadata": {},
     "output_type": "execute_result"
    }
   ],
   "source": [
    "data['host_response_rate'].str.contains('%').all()"
   ],
   "metadata": {
    "collapsed": false,
    "ExecuteTime": {
     "end_time": "2023-12-17T23:15:00.322719800Z",
     "start_time": "2023-12-17T23:15:00.226359100Z"
    }
   },
   "id": "8f13e63c27923dbc"
  },
  {
   "cell_type": "markdown",
   "source": [],
   "metadata": {
    "collapsed": false
   },
   "id": "1ed532d40678ec15"
  },
  {
   "cell_type": "markdown",
   "source": [
    "# host_response_time - tylko cztery wartości więc odpowiedni typ będzie kategoryczny\n",
    "# host_response_rate, host_acceptance_rate wartości podane w procentach, podzielenie na sto i zmiana na typ float\n",
    "# host_is_superhost - zawiera tylko wartości true i false  więc zamieniam na typ bool\n",
    "# host_thumbnail_url - kolejny url a więc string"
   ],
   "metadata": {
    "collapsed": false
   },
   "id": "d0405eb7cad1266d"
  },
  {
   "cell_type": "code",
   "execution_count": 21,
   "outputs": [],
   "source": [
    "data['host_response_time'] = data['host_response_time'].astype('category')\n",
    "data['host_response_rate'] = data['host_response_rate'].str.rstrip('%').astype('float') / 100\n",
    "data['host_acceptance_rate'] = data['host_acceptance_rate'].str.rstrip('%').astype('float') / 100\n",
    "data['host_is_superhost'] = data['host_is_superhost'].replace({'t': True, 'f': False}).astype(bool)\n",
    "data['host_thumbnail_url'] = data['host_thumbnail_url'].astype('string')\n"
   ],
   "metadata": {
    "collapsed": false,
    "ExecuteTime": {
     "end_time": "2023-12-17T23:15:00.323218300Z",
     "start_time": "2023-12-17T23:15:00.230742100Z"
    }
   },
   "id": "c9ad9248c8df6db0"
  },
  {
   "cell_type": "code",
   "execution_count": 22,
   "outputs": [
    {
     "data": {
      "text/plain": "                                       host_picture_url    host_neighbourhood  \\\n0     https://a0.muscache.com/im/users/175412/profil...                   NaN   \n1     https://a0.muscache.com/im/pictures/user/User-...                   NaN   \n2     https://a0.muscache.com/im/pictures/user/User-...                   NaN   \n3     https://a0.muscache.com/im/users/1410590/profi...      Bergen-Lafayette   \n4     https://a0.muscache.com/im/users/1410590/profi...      Bergen-Lafayette   \n...                                                 ...                   ...   \n1319  https://a0.muscache.com/im/pictures/user/User-...  Downtown Jersey City   \n1320  https://a0.muscache.com/im/pictures/user/User-...      Bergen-Lafayette   \n1321  https://a0.muscache.com/im/pictures/user/1918a...           The Heights   \n1322  https://a0.muscache.com/im/pictures/user/ce737...            Greenville   \n1323  https://a0.muscache.com/im/pictures/user/User-...             West Side   \n\n      host_listings_count  host_total_listings_count  host_verifications  \n0                       1                          4  ['email', 'phone']  \n1                       2                          4  ['email', 'phone']  \n2                       2                          4  ['email', 'phone']  \n3                      11                         18  ['email', 'phone']  \n4                      11                         18  ['email', 'phone']  \n...                   ...                        ...                 ...  \n1319                    1                          2           ['phone']  \n1320                    5                          5  ['email', 'phone']  \n1321                   22                         32  ['email', 'phone']  \n1322                    5                          6           ['phone']  \n1323                    1                          1           ['phone']  \n\n[1324 rows x 5 columns]",
      "text/html": "<div>\n<style scoped>\n    .dataframe tbody tr th:only-of-type {\n        vertical-align: middle;\n    }\n\n    .dataframe tbody tr th {\n        vertical-align: top;\n    }\n\n    .dataframe thead th {\n        text-align: right;\n    }\n</style>\n<table border=\"1\" class=\"dataframe\">\n  <thead>\n    <tr style=\"text-align: right;\">\n      <th></th>\n      <th>host_picture_url</th>\n      <th>host_neighbourhood</th>\n      <th>host_listings_count</th>\n      <th>host_total_listings_count</th>\n      <th>host_verifications</th>\n    </tr>\n  </thead>\n  <tbody>\n    <tr>\n      <th>0</th>\n      <td>https://a0.muscache.com/im/users/175412/profil...</td>\n      <td>NaN</td>\n      <td>1</td>\n      <td>4</td>\n      <td>['email', 'phone']</td>\n    </tr>\n    <tr>\n      <th>1</th>\n      <td>https://a0.muscache.com/im/pictures/user/User-...</td>\n      <td>NaN</td>\n      <td>2</td>\n      <td>4</td>\n      <td>['email', 'phone']</td>\n    </tr>\n    <tr>\n      <th>2</th>\n      <td>https://a0.muscache.com/im/pictures/user/User-...</td>\n      <td>NaN</td>\n      <td>2</td>\n      <td>4</td>\n      <td>['email', 'phone']</td>\n    </tr>\n    <tr>\n      <th>3</th>\n      <td>https://a0.muscache.com/im/users/1410590/profi...</td>\n      <td>Bergen-Lafayette</td>\n      <td>11</td>\n      <td>18</td>\n      <td>['email', 'phone']</td>\n    </tr>\n    <tr>\n      <th>4</th>\n      <td>https://a0.muscache.com/im/users/1410590/profi...</td>\n      <td>Bergen-Lafayette</td>\n      <td>11</td>\n      <td>18</td>\n      <td>['email', 'phone']</td>\n    </tr>\n    <tr>\n      <th>...</th>\n      <td>...</td>\n      <td>...</td>\n      <td>...</td>\n      <td>...</td>\n      <td>...</td>\n    </tr>\n    <tr>\n      <th>1319</th>\n      <td>https://a0.muscache.com/im/pictures/user/User-...</td>\n      <td>Downtown Jersey City</td>\n      <td>1</td>\n      <td>2</td>\n      <td>['phone']</td>\n    </tr>\n    <tr>\n      <th>1320</th>\n      <td>https://a0.muscache.com/im/pictures/user/User-...</td>\n      <td>Bergen-Lafayette</td>\n      <td>5</td>\n      <td>5</td>\n      <td>['email', 'phone']</td>\n    </tr>\n    <tr>\n      <th>1321</th>\n      <td>https://a0.muscache.com/im/pictures/user/1918a...</td>\n      <td>The Heights</td>\n      <td>22</td>\n      <td>32</td>\n      <td>['email', 'phone']</td>\n    </tr>\n    <tr>\n      <th>1322</th>\n      <td>https://a0.muscache.com/im/pictures/user/ce737...</td>\n      <td>Greenville</td>\n      <td>5</td>\n      <td>6</td>\n      <td>['phone']</td>\n    </tr>\n    <tr>\n      <th>1323</th>\n      <td>https://a0.muscache.com/im/pictures/user/User-...</td>\n      <td>West Side</td>\n      <td>1</td>\n      <td>1</td>\n      <td>['phone']</td>\n    </tr>\n  </tbody>\n</table>\n<p>1324 rows × 5 columns</p>\n</div>"
     },
     "execution_count": 22,
     "metadata": {},
     "output_type": "execute_result"
    }
   ],
   "source": [
    "data.iloc[:, 20:25]"
   ],
   "metadata": {
    "collapsed": false,
    "ExecuteTime": {
     "end_time": "2023-12-17T23:15:00.429618100Z",
     "start_time": "2023-12-17T23:15:00.235611200Z"
    }
   },
   "id": "b803d179c7b2d18b"
  },
  {
   "cell_type": "code",
   "execution_count": 23,
   "outputs": [
    {
     "data": {
      "text/plain": "host_neighbourhood\nThe Heights                      243\nBergen-Lafayette                 159\nJournal Square                   129\nDowntown Jersey City             112\nGreenville                        80\nCambridge                         79\nWest Side                         72\nMcGinley Square                   47\nHell's Kitchen                    38\nThe Village                       21\nHackensack River Waterfront       18\nUpper East Side                   17\nHamilton Park                     14\nHudson Exchange                   11\nEast Colorado Springs             10\nNewport                            8\nHighland Lakes                     7\nBedford-Stuyvesant                 6\nPowerhouse Arts District           6\nVegas de La Doctora                5\nIselin                             5\nSouth Broad Street                 4\nPotomac Yard                       3\nFlushing                           3\nNorth Riverdale                    3\nCamelback East Village             2\nLong Island City                   2\nWeequahic                          2\nAstoria                            2\nForest Hills                       1\nDowntown Miami                     1\nEdgewater                          1\nWest Brighton                      1\nChelsea                            1\nConstable Hook                     1\nZona Romántica                     1\nAventura                           1\nMarina                             1\nCentral LA                         1\nHollywood South Central Beach      1\nRiverside                          1\nMarket East                        1\nKoreatown                          1\nName: count, dtype: int64"
     },
     "execution_count": 23,
     "metadata": {},
     "output_type": "execute_result"
    }
   ],
   "source": [
    "data['host_neighbourhood'].value_counts()"
   ],
   "metadata": {
    "collapsed": false,
    "ExecuteTime": {
     "end_time": "2023-12-17T23:15:00.430617800Z",
     "start_time": "2023-12-17T23:15:00.241609200Z"
    }
   },
   "id": "eab8602227a02046"
  },
  {
   "cell_type": "code",
   "execution_count": 24,
   "outputs": [
    {
     "data": {
      "text/plain": "host_verifications\n['email', 'phone']                  912\n['email', 'phone', 'work_email']    242\n['phone']                           165\n['phone', 'work_email']               4\n['email']                             1\nName: count, dtype: int64"
     },
     "execution_count": 24,
     "metadata": {},
     "output_type": "execute_result"
    }
   ],
   "source": [
    "data['host_verifications'].value_counts()"
   ],
   "metadata": {
    "collapsed": false,
    "ExecuteTime": {
     "end_time": "2023-12-17T23:15:00.431118300Z",
     "start_time": "2023-12-17T23:15:00.244308800Z"
    }
   },
   "id": "50f0c80e08f99165"
  },
  {
   "cell_type": "code",
   "execution_count": 25,
   "outputs": [],
   "source": [
    "import ast\n",
    "def parse_verification_list(verification_string):\n",
    "    try:\n",
    "        verification_list = ast.literal_eval(verification_string)\n",
    "        if isinstance(verification_list, list):\n",
    "            return verification_list\n",
    "        else:\n",
    "            return []\n",
    "\n",
    "    except (ValueError, SyntaxError):\n",
    "        return []\n",
    "\n",
    "host_verifications_list = data['host_verifications'].apply(parse_verification_list)"
   ],
   "metadata": {
    "collapsed": false,
    "ExecuteTime": {
     "end_time": "2023-12-17T23:15:00.433626900Z",
     "start_time": "2023-12-17T23:15:00.255790500Z"
    }
   },
   "id": "d6c5abd72e2e479b"
  },
  {
   "cell_type": "code",
   "execution_count": 26,
   "outputs": [
    {
     "data": {
      "text/plain": "0       [email, phone]\n1       [email, phone]\n2       [email, phone]\n3       [email, phone]\n4       [email, phone]\n             ...      \n1319           [phone]\n1320    [email, phone]\n1321    [email, phone]\n1322           [phone]\n1323           [phone]\nName: host_verifications, Length: 1324, dtype: object"
     },
     "execution_count": 26,
     "metadata": {},
     "output_type": "execute_result"
    }
   ],
   "source": [
    "host_verifications_list"
   ],
   "metadata": {
    "collapsed": false,
    "ExecuteTime": {
     "end_time": "2023-12-17T23:15:00.434627100Z",
     "start_time": "2023-12-17T23:15:00.260207Z"
    }
   },
   "id": "505138fd96e1de59"
  },
  {
   "cell_type": "markdown",
   "source": [
    "# host_picture_url, host_picture_url mozna zamienić na typ string\n",
    "# host_listings_count, host_total_listings_count mają odpowiednie typy\n",
    "# host_verifications kolumna ta posiada liste, 3 wartości można to zamienić procesem One-hot encoding na osobne kolumny  tak aby każda wartości była oznaczona 1 lub 0 a kolumne host_verification można usunąć"
   ],
   "metadata": {
    "collapsed": false
   },
   "id": "e7a8cd4941200c5f"
  },
  {
   "cell_type": "code",
   "execution_count": 27,
   "outputs": [],
   "source": [
    "data['host_picture_url'] = data['host_picture_url'].astype('string')\n",
    "data['host_neighbourhood'] = data['host_neighbourhood'].astype('string')\n",
    "\n",
    "from sklearn.preprocessing import MultiLabelBinarizer\n",
    "\n",
    "mlb = MultiLabelBinarizer()\n",
    "\n",
    "one_hot_encoded_verifications = mlb.fit_transform(host_verifications_list)\n",
    "one_hot_encoded_df = pd.DataFrame(one_hot_encoded_verifications, columns=mlb.classes_)\n",
    "one_hot_encoded_df.head()\n",
    "\n",
    "data_with_one_hot = data.join(one_hot_encoded_df)\n",
    "\n",
    "one_hot_encoded_verifications = mlb.fit_transform(host_verifications_list)\n",
    "one_hot_encoded_df = pd.DataFrame(one_hot_encoded_verifications, columns=mlb.classes_)\n",
    "\n",
    "data = pd.concat([data, one_hot_encoded_df], axis=1)\n",
    "data.drop('host_verifications', axis=1, inplace=True)"
   ],
   "metadata": {
    "collapsed": false,
    "ExecuteTime": {
     "end_time": "2023-12-17T23:15:00.560640800Z",
     "start_time": "2023-12-17T23:15:00.263214200Z"
    }
   },
   "id": "71869cb2fab5120a"
  },
  {
   "cell_type": "code",
   "execution_count": 28,
   "outputs": [
    {
     "data": {
      "text/plain": "      email  phone  work_email\n0         1      1           0\n1         1      1           0\n2         1      1           0\n3         1      1           0\n4         1      1           0\n...     ...    ...         ...\n1319      0      1           0\n1320      1      1           0\n1321      1      1           0\n1322      0      1           0\n1323      0      1           0\n\n[1324 rows x 3 columns]",
      "text/html": "<div>\n<style scoped>\n    .dataframe tbody tr th:only-of-type {\n        vertical-align: middle;\n    }\n\n    .dataframe tbody tr th {\n        vertical-align: top;\n    }\n\n    .dataframe thead th {\n        text-align: right;\n    }\n</style>\n<table border=\"1\" class=\"dataframe\">\n  <thead>\n    <tr style=\"text-align: right;\">\n      <th></th>\n      <th>email</th>\n      <th>phone</th>\n      <th>work_email</th>\n    </tr>\n  </thead>\n  <tbody>\n    <tr>\n      <th>0</th>\n      <td>1</td>\n      <td>1</td>\n      <td>0</td>\n    </tr>\n    <tr>\n      <th>1</th>\n      <td>1</td>\n      <td>1</td>\n      <td>0</td>\n    </tr>\n    <tr>\n      <th>2</th>\n      <td>1</td>\n      <td>1</td>\n      <td>0</td>\n    </tr>\n    <tr>\n      <th>3</th>\n      <td>1</td>\n      <td>1</td>\n      <td>0</td>\n    </tr>\n    <tr>\n      <th>4</th>\n      <td>1</td>\n      <td>1</td>\n      <td>0</td>\n    </tr>\n    <tr>\n      <th>...</th>\n      <td>...</td>\n      <td>...</td>\n      <td>...</td>\n    </tr>\n    <tr>\n      <th>1319</th>\n      <td>0</td>\n      <td>1</td>\n      <td>0</td>\n    </tr>\n    <tr>\n      <th>1320</th>\n      <td>1</td>\n      <td>1</td>\n      <td>0</td>\n    </tr>\n    <tr>\n      <th>1321</th>\n      <td>1</td>\n      <td>1</td>\n      <td>0</td>\n    </tr>\n    <tr>\n      <th>1322</th>\n      <td>0</td>\n      <td>1</td>\n      <td>0</td>\n    </tr>\n    <tr>\n      <th>1323</th>\n      <td>0</td>\n      <td>1</td>\n      <td>0</td>\n    </tr>\n  </tbody>\n</table>\n<p>1324 rows × 3 columns</p>\n</div>"
     },
     "execution_count": 28,
     "metadata": {},
     "output_type": "execute_result"
    }
   ],
   "source": [
    "data[['email', 'phone', 'work_email']]"
   ],
   "metadata": {
    "collapsed": false,
    "ExecuteTime": {
     "end_time": "2023-12-17T23:15:00.592648200Z",
     "start_time": "2023-12-17T23:15:00.350786100Z"
    }
   },
   "id": "b23b54b080748f14"
  },
  {
   "cell_type": "code",
   "execution_count": 29,
   "outputs": [
    {
     "data": {
      "text/plain": "     host_has_profile_pic host_identity_verified  \\\n0                       t                      f   \n1                       t                      t   \n2                       t                      t   \n3                       t                      f   \n4                       t                      f   \n...                   ...                    ...   \n1319                    t                      t   \n1320                    t                      t   \n1321                    t                      t   \n1322                    t                      t   \n1323                    t                      t   \n\n                               neighbourhood  \\\n0     Jersey City, New Jersey, United States   \n1     Jersey City, New Jersey, United States   \n2     Jersey City, New Jersey, United States   \n3     Jersey City, New Jersey, United States   \n4                                        NaN   \n...                                      ...   \n1319                                     NaN   \n1320  Jersey City, New Jersey, United States   \n1321                                     NaN   \n1322                                     NaN   \n1323                                     NaN   \n\n                           neighbourhood_cleansed  \\\n0         Ward C (councilmember Richard Boggiano)   \n1     Ward F (councilmember Jermaine D. Robinson)   \n2     Ward F (councilmember Jermaine D. Robinson)   \n3     Ward F (councilmember Jermaine D. Robinson)   \n4     Ward F (councilmember Jermaine D. Robinson)   \n...                                           ...   \n1319         Ward E (councilmember James Solomon)   \n1320  Ward F (councilmember Jermaine D. Robinson)   \n1321         Ward A (councilmember Denise Ridley)   \n1322         Ward A (councilmember Denise Ridley)   \n1323       Ward B (councilmember Mira Prinz-Arey)   \n\n      neighbourhood_group_cleansed   latitude  \n0                              NaN  40.737240  \n1                              NaN  40.714380  \n2                              NaN  40.711620  \n3                              NaN  40.711350  \n4                              NaN  40.713400  \n...                            ...        ...  \n1319                           NaN  40.719732  \n1320                           NaN  40.705539  \n1321                           NaN  40.688882  \n1322                           NaN  40.687234  \n1323                           NaN  40.732470  \n\n[1324 rows x 6 columns]",
      "text/html": "<div>\n<style scoped>\n    .dataframe tbody tr th:only-of-type {\n        vertical-align: middle;\n    }\n\n    .dataframe tbody tr th {\n        vertical-align: top;\n    }\n\n    .dataframe thead th {\n        text-align: right;\n    }\n</style>\n<table border=\"1\" class=\"dataframe\">\n  <thead>\n    <tr style=\"text-align: right;\">\n      <th></th>\n      <th>host_has_profile_pic</th>\n      <th>host_identity_verified</th>\n      <th>neighbourhood</th>\n      <th>neighbourhood_cleansed</th>\n      <th>neighbourhood_group_cleansed</th>\n      <th>latitude</th>\n    </tr>\n  </thead>\n  <tbody>\n    <tr>\n      <th>0</th>\n      <td>t</td>\n      <td>f</td>\n      <td>Jersey City, New Jersey, United States</td>\n      <td>Ward C (councilmember Richard Boggiano)</td>\n      <td>NaN</td>\n      <td>40.737240</td>\n    </tr>\n    <tr>\n      <th>1</th>\n      <td>t</td>\n      <td>t</td>\n      <td>Jersey City, New Jersey, United States</td>\n      <td>Ward F (councilmember Jermaine D. Robinson)</td>\n      <td>NaN</td>\n      <td>40.714380</td>\n    </tr>\n    <tr>\n      <th>2</th>\n      <td>t</td>\n      <td>t</td>\n      <td>Jersey City, New Jersey, United States</td>\n      <td>Ward F (councilmember Jermaine D. Robinson)</td>\n      <td>NaN</td>\n      <td>40.711620</td>\n    </tr>\n    <tr>\n      <th>3</th>\n      <td>t</td>\n      <td>f</td>\n      <td>Jersey City, New Jersey, United States</td>\n      <td>Ward F (councilmember Jermaine D. Robinson)</td>\n      <td>NaN</td>\n      <td>40.711350</td>\n    </tr>\n    <tr>\n      <th>4</th>\n      <td>t</td>\n      <td>f</td>\n      <td>NaN</td>\n      <td>Ward F (councilmember Jermaine D. Robinson)</td>\n      <td>NaN</td>\n      <td>40.713400</td>\n    </tr>\n    <tr>\n      <th>...</th>\n      <td>...</td>\n      <td>...</td>\n      <td>...</td>\n      <td>...</td>\n      <td>...</td>\n      <td>...</td>\n    </tr>\n    <tr>\n      <th>1319</th>\n      <td>t</td>\n      <td>t</td>\n      <td>NaN</td>\n      <td>Ward E (councilmember James Solomon)</td>\n      <td>NaN</td>\n      <td>40.719732</td>\n    </tr>\n    <tr>\n      <th>1320</th>\n      <td>t</td>\n      <td>t</td>\n      <td>Jersey City, New Jersey, United States</td>\n      <td>Ward F (councilmember Jermaine D. Robinson)</td>\n      <td>NaN</td>\n      <td>40.705539</td>\n    </tr>\n    <tr>\n      <th>1321</th>\n      <td>t</td>\n      <td>t</td>\n      <td>NaN</td>\n      <td>Ward A (councilmember Denise Ridley)</td>\n      <td>NaN</td>\n      <td>40.688882</td>\n    </tr>\n    <tr>\n      <th>1322</th>\n      <td>t</td>\n      <td>t</td>\n      <td>NaN</td>\n      <td>Ward A (councilmember Denise Ridley)</td>\n      <td>NaN</td>\n      <td>40.687234</td>\n    </tr>\n    <tr>\n      <th>1323</th>\n      <td>t</td>\n      <td>t</td>\n      <td>NaN</td>\n      <td>Ward B (councilmember Mira Prinz-Arey)</td>\n      <td>NaN</td>\n      <td>40.732470</td>\n    </tr>\n  </tbody>\n</table>\n<p>1324 rows × 6 columns</p>\n</div>"
     },
     "execution_count": 29,
     "metadata": {},
     "output_type": "execute_result"
    }
   ],
   "source": [
    "data.iloc[:, 24:30]"
   ],
   "metadata": {
    "collapsed": false,
    "ExecuteTime": {
     "end_time": "2023-12-17T23:15:00.593647800Z",
     "start_time": "2023-12-17T23:15:00.356462100Z"
    }
   },
   "id": "cfc3c3ef4109d439"
  },
  {
   "cell_type": "code",
   "execution_count": 30,
   "outputs": [
    {
     "data": {
      "text/plain": "host_has_profile_pic\nt    1291\nf      33\nName: count, dtype: int64"
     },
     "execution_count": 30,
     "metadata": {},
     "output_type": "execute_result"
    }
   ],
   "source": [
    "data['host_has_profile_pic'].value_counts()"
   ],
   "metadata": {
    "collapsed": false,
    "ExecuteTime": {
     "end_time": "2023-12-17T23:15:00.594646100Z",
     "start_time": "2023-12-17T23:15:00.363541900Z"
    }
   },
   "id": "52cc80d2c047f7c0"
  },
  {
   "cell_type": "code",
   "execution_count": 31,
   "outputs": [
    {
     "data": {
      "text/plain": "host_identity_verified\nt    1200\nf     124\nName: count, dtype: int64"
     },
     "execution_count": 31,
     "metadata": {},
     "output_type": "execute_result"
    }
   ],
   "source": [
    "data['host_identity_verified'].value_counts()"
   ],
   "metadata": {
    "collapsed": false,
    "ExecuteTime": {
     "end_time": "2023-12-17T23:15:00.595145800Z",
     "start_time": "2023-12-17T23:15:00.365785Z"
    }
   },
   "id": "fb34d50b40464e2a"
  },
  {
   "cell_type": "code",
   "execution_count": 32,
   "outputs": [
    {
     "data": {
      "text/plain": "neighbourhood\nJersey City, New Jersey, United States      815\nNorth Bergen, New Jersey, United States       1\nHoboken, New Jersey, United States            1\nBayonne, New Jersey, United States            1\n jersey city , New Jersey, United States      1\nName: count, dtype: int64"
     },
     "execution_count": 32,
     "metadata": {},
     "output_type": "execute_result"
    }
   ],
   "source": [
    "data['neighbourhood'].value_counts()\n",
    "#można wartością najcześciej występująca uzupełnić"
   ],
   "metadata": {
    "collapsed": false,
    "ExecuteTime": {
     "end_time": "2023-12-17T23:15:00.641674Z",
     "start_time": "2023-12-17T23:15:00.370988Z"
    }
   },
   "id": "e6643dbfcd3377e8"
  },
  {
   "cell_type": "code",
   "execution_count": 33,
   "outputs": [
    {
     "data": {
      "text/plain": "neighbourhood_cleansed\nWard E (councilmember James Solomon)           343\nWard C (councilmember Richard Boggiano)        252\nWard F (councilmember Jermaine D. Robinson)    246\nWard D (councilmember Michael Yun)             225\nWard B (councilmember Mira Prinz-Arey)         139\nWard A (councilmember Denise Ridley)           119\nName: count, dtype: int64"
     },
     "execution_count": 33,
     "metadata": {},
     "output_type": "execute_result"
    }
   ],
   "source": [
    "data['neighbourhood_cleansed'].value_counts()"
   ],
   "metadata": {
    "collapsed": false,
    "ExecuteTime": {
     "end_time": "2023-12-17T23:15:00.642673Z",
     "start_time": "2023-12-17T23:15:00.374308Z"
    }
   },
   "id": "2d67a97852cabbe5"
  },
  {
   "cell_type": "code",
   "execution_count": 34,
   "outputs": [
    {
     "data": {
      "text/plain": "Series([], Name: count, dtype: int64)"
     },
     "execution_count": 34,
     "metadata": {},
     "output_type": "execute_result"
    }
   ],
   "source": [
    "data['neighbourhood_group_cleansed'].value_counts()"
   ],
   "metadata": {
    "collapsed": false,
    "ExecuteTime": {
     "end_time": "2023-12-17T23:15:00.643172700Z",
     "start_time": "2023-12-17T23:15:00.378560700Z"
    }
   },
   "id": "bc8fea85c020a681"
  },
  {
   "cell_type": "code",
   "execution_count": 35,
   "outputs": [
    {
     "data": {
      "text/plain": "True"
     },
     "execution_count": 35,
     "metadata": {},
     "output_type": "execute_result"
    }
   ],
   "source": [
    "data['neighbourhood_group_cleansed'].isnull().all()"
   ],
   "metadata": {
    "collapsed": false,
    "ExecuteTime": {
     "end_time": "2023-12-17T23:15:00.643673200Z",
     "start_time": "2023-12-17T23:15:00.382468800Z"
    }
   },
   "id": "d3023337e3055fce"
  },
  {
   "cell_type": "markdown",
   "source": [
    "#  host_has_profile_pic, host_has_profile_pic typ bool\n",
    "# neighbourhood, neighbourhood_cleansed ze względu na liczbe uniklanych wartości zamieniłem typ na category\n",
    "# neighbourhood_group_cleansed - nie zmieniałem nic bo to jest pusta kolumna\n",
    "# latitude - poprawny typ"
   ],
   "metadata": {
    "collapsed": false
   },
   "id": "e88ae15a198a7796"
  },
  {
   "cell_type": "markdown",
   "source": [],
   "metadata": {
    "collapsed": false
   },
   "id": "9f879e845ed12fa5"
  },
  {
   "cell_type": "code",
   "execution_count": 36,
   "outputs": [],
   "source": [
    "data['host_has_profile_pic'] = data['host_has_profile_pic'].replace({'t': True, 'f': False}).astype(bool)\n",
    "data['host_identity_verified'] = data['host_identity_verified'].replace({'t': True, 'f': False}).astype(bool)\n",
    "data['neighbourhood'] = data['neighbourhood'].astype('category')\n",
    "data['neighbourhood_cleansed'] = data['neighbourhood_cleansed'].astype('category')"
   ],
   "metadata": {
    "collapsed": false,
    "ExecuteTime": {
     "end_time": "2023-12-17T23:15:00.644673600Z",
     "start_time": "2023-12-17T23:15:00.384309200Z"
    }
   },
   "id": "4c850c2886f93044"
  },
  {
   "cell_type": "code",
   "execution_count": 37,
   "outputs": [
    {
     "data": {
      "text/plain": "      longitude                property_type        room_type  accommodates  \\\n0    -74.053100        Private room in condo     Private room             2   \n1    -74.058100                  Entire home  Entire home/apt             4   \n2    -74.061790                  Entire home  Entire home/apt             2   \n3    -74.063740           Entire rental unit  Entire home/apt             5   \n4    -74.064890    Private room in townhouse     Private room             1   \n...         ...                          ...              ...           ...   \n1319 -74.046680  Private room in rental unit     Private room             1   \n1320 -74.076724  Private room in rental unit     Private room             2   \n1321 -74.097413  Private room in rental unit     Private room             2   \n1322 -74.099546         Private room in home     Private room             2   \n1323 -74.075320                  Entire home  Entire home/apt             8   \n\n      bathrooms  \n0           NaN  \n1           NaN  \n2           NaN  \n3           NaN  \n4           NaN  \n...         ...  \n1319        NaN  \n1320        NaN  \n1321        NaN  \n1322        NaN  \n1323        NaN  \n\n[1324 rows x 5 columns]",
      "text/html": "<div>\n<style scoped>\n    .dataframe tbody tr th:only-of-type {\n        vertical-align: middle;\n    }\n\n    .dataframe tbody tr th {\n        vertical-align: top;\n    }\n\n    .dataframe thead th {\n        text-align: right;\n    }\n</style>\n<table border=\"1\" class=\"dataframe\">\n  <thead>\n    <tr style=\"text-align: right;\">\n      <th></th>\n      <th>longitude</th>\n      <th>property_type</th>\n      <th>room_type</th>\n      <th>accommodates</th>\n      <th>bathrooms</th>\n    </tr>\n  </thead>\n  <tbody>\n    <tr>\n      <th>0</th>\n      <td>-74.053100</td>\n      <td>Private room in condo</td>\n      <td>Private room</td>\n      <td>2</td>\n      <td>NaN</td>\n    </tr>\n    <tr>\n      <th>1</th>\n      <td>-74.058100</td>\n      <td>Entire home</td>\n      <td>Entire home/apt</td>\n      <td>4</td>\n      <td>NaN</td>\n    </tr>\n    <tr>\n      <th>2</th>\n      <td>-74.061790</td>\n      <td>Entire home</td>\n      <td>Entire home/apt</td>\n      <td>2</td>\n      <td>NaN</td>\n    </tr>\n    <tr>\n      <th>3</th>\n      <td>-74.063740</td>\n      <td>Entire rental unit</td>\n      <td>Entire home/apt</td>\n      <td>5</td>\n      <td>NaN</td>\n    </tr>\n    <tr>\n      <th>4</th>\n      <td>-74.064890</td>\n      <td>Private room in townhouse</td>\n      <td>Private room</td>\n      <td>1</td>\n      <td>NaN</td>\n    </tr>\n    <tr>\n      <th>...</th>\n      <td>...</td>\n      <td>...</td>\n      <td>...</td>\n      <td>...</td>\n      <td>...</td>\n    </tr>\n    <tr>\n      <th>1319</th>\n      <td>-74.046680</td>\n      <td>Private room in rental unit</td>\n      <td>Private room</td>\n      <td>1</td>\n      <td>NaN</td>\n    </tr>\n    <tr>\n      <th>1320</th>\n      <td>-74.076724</td>\n      <td>Private room in rental unit</td>\n      <td>Private room</td>\n      <td>2</td>\n      <td>NaN</td>\n    </tr>\n    <tr>\n      <th>1321</th>\n      <td>-74.097413</td>\n      <td>Private room in rental unit</td>\n      <td>Private room</td>\n      <td>2</td>\n      <td>NaN</td>\n    </tr>\n    <tr>\n      <th>1322</th>\n      <td>-74.099546</td>\n      <td>Private room in home</td>\n      <td>Private room</td>\n      <td>2</td>\n      <td>NaN</td>\n    </tr>\n    <tr>\n      <th>1323</th>\n      <td>-74.075320</td>\n      <td>Entire home</td>\n      <td>Entire home/apt</td>\n      <td>8</td>\n      <td>NaN</td>\n    </tr>\n  </tbody>\n</table>\n<p>1324 rows × 5 columns</p>\n</div>"
     },
     "execution_count": 37,
     "metadata": {},
     "output_type": "execute_result"
    }
   ],
   "source": [
    "data.iloc[:, 30:35]"
   ],
   "metadata": {
    "collapsed": false,
    "ExecuteTime": {
     "end_time": "2023-12-17T23:15:00.645171Z",
     "start_time": "2023-12-17T23:15:00.389961500Z"
    }
   },
   "id": "314b371ac9b7baf2"
  },
  {
   "cell_type": "code",
   "execution_count": 38,
   "outputs": [
    {
     "data": {
      "text/plain": "property_type\nEntire rental unit                    489\nPrivate room in home                  187\nPrivate room in rental unit           184\nEntire serviced apartment             115\nEntire home                            93\nEntire condo                           93\nPrivate room in condo                  25\nPrivate room in serviced apartment     23\nEntire townhouse                       22\nPrivate room in townhouse              20\nPrivate room                           18\nEntire loft                            11\nRoom in hotel                          11\nEntire guest suite                     10\nEntire guesthouse                       6\nPrivate room in loft                    5\nPrivate room in guest suite             2\nEntire vacation home                    2\nPrivate room in bed and breakfast       1\nEntire home/apt                         1\nTiny home                               1\nBoat                                    1\nRoom in boutique hotel                  1\nShared room in bed and breakfast        1\nShared room in condo                    1\nEntire place                            1\nName: count, dtype: int64"
     },
     "execution_count": 38,
     "metadata": {},
     "output_type": "execute_result"
    }
   ],
   "source": [
    "data['property_type'].value_counts()"
   ],
   "metadata": {
    "collapsed": false,
    "ExecuteTime": {
     "end_time": "2023-12-17T23:15:00.646172900Z",
     "start_time": "2023-12-17T23:15:00.396046800Z"
    }
   },
   "id": "880dd59d280d4575"
  },
  {
   "cell_type": "code",
   "execution_count": 39,
   "outputs": [
    {
     "data": {
      "text/plain": "room_type\nEntire home/apt    845\nPrivate room       476\nShared room          2\nHotel room           1\nName: count, dtype: int64"
     },
     "execution_count": 39,
     "metadata": {},
     "output_type": "execute_result"
    }
   ],
   "source": [
    "data['room_type'].value_counts()"
   ],
   "metadata": {
    "collapsed": false,
    "ExecuteTime": {
     "end_time": "2023-12-17T23:15:00.646671700Z",
     "start_time": "2023-12-17T23:15:00.400047600Z"
    }
   },
   "id": "8cf93111f157c415"
  },
  {
   "cell_type": "markdown",
   "source": [
    "#  longitude zostawiam jako float \n",
    "# property_type zamieniam na category\n",
    "# room_type zamieniam na category\n",
    "# accommodates zostawiam int64\n",
    "# bathrooms zostawiam jak jest bo jest puste"
   ],
   "metadata": {
    "collapsed": false
   },
   "id": "945942b0ba0c12ad"
  },
  {
   "cell_type": "code",
   "execution_count": 40,
   "outputs": [],
   "source": [
    "data['property_type'] = data['property_type'].astype('category')\n",
    "data['room_type'] = data['room_type'].astype('category')"
   ],
   "metadata": {
    "collapsed": false,
    "ExecuteTime": {
     "end_time": "2023-12-17T23:15:00.660673Z",
     "start_time": "2023-12-17T23:15:00.403999500Z"
    }
   },
   "id": "f37154fd568f09f9"
  },
  {
   "cell_type": "code",
   "execution_count": 41,
   "outputs": [
    {
     "data": {
      "text/plain": "id                                                      int64\nlisting_url                                    string[python]\nscrape_id                                               int64\nlast_scraped                                   datetime64[ns]\nsource                                               category\n                                                    ...      \ncalculated_host_listings_count_shared_rooms             int64\nreviews_per_month                                     float64\nemail                                                   int32\nphone                                                   int32\nwork_email                                              int32\nLength: 77, dtype: object"
     },
     "execution_count": 41,
     "metadata": {},
     "output_type": "execute_result"
    }
   ],
   "source": [
    "data.dtypes"
   ],
   "metadata": {
    "collapsed": false,
    "ExecuteTime": {
     "end_time": "2023-12-17T23:15:00.662173200Z",
     "start_time": "2023-12-17T23:15:00.408781300Z"
    }
   },
   "id": "e3618514517d219d"
  },
  {
   "cell_type": "code",
   "execution_count": 42,
   "outputs": [],
   "source": [
    "data['bathrooms_text'] = data['bathrooms_text'].astype('string')\n",
    "data['amenities'] = data['amenities'].astype('string')\n",
    "\n",
    "data['price'] = data['price'].str.replace(r'[^0-9.]', '', regex=True).astype(float)\n",
    "\n",
    "\n",
    "\n",
    "# Check if 'bedrooms' and 'beds' contain only integers (or NaN)\n",
    "\n",
    "unique_bedrooms = data['bedrooms'].dropna().unique()\n",
    "\n",
    "unique_beds = data['beds'].dropna().unique()\n",
    "\n",
    "is_bedrooms_integers = all(x.is_integer() for x in unique_bedrooms)\n",
    "\n",
    "is_beds_integers = all(x.is_integer() for x in unique_beds)\n",
    "\n",
    "\n",
    "\n",
    "# Convert 'bedrooms' and 'beds' to int types if they contain only integer values\n",
    "\n",
    "if is_bedrooms_integers:\n",
    "\n",
    "    data['bedrooms'] = data['bedrooms'].astype('Int64')  # Use 'Int64' (capitalized) to allow NaN values\n",
    "\n",
    "if is_beds_integers:\n",
    "\n",
    "    data['beds'] = data['beds'].astype('Int64')  # Use 'Int64' (capitalized) to allow NaN values\n",
    "\n",
    "\n"
   ],
   "metadata": {
    "collapsed": false,
    "ExecuteTime": {
     "end_time": "2023-12-17T23:15:00.678173200Z",
     "start_time": "2023-12-17T23:15:00.412445200Z"
    }
   },
   "id": "5c24d4552f0a21b4"
  },
  {
   "cell_type": "code",
   "execution_count": 43,
   "outputs": [],
   "source": [
    "# Convert 'has_availability' to bool type after checking values\n",
    "\n",
    "data['has_availability'] = data['has_availability'].replace({'t': True, 'f': False}).astype(bool)\n",
    "\n",
    "\n",
    "\n",
    "# Convert 'calendar_last_scraped' to datetime type\n",
    "\n",
    "data['calendar_last_scraped'] = pd.to_datetime(data['calendar_last_scraped'], errors='coerce')\n",
    "\n",
    "\n",
    "\n",
    "# Convert 'first_review' and 'last_review' to datetime type\n",
    "\n",
    "data['first_review'] = pd.to_datetime(data['first_review'], errors='coerce')\n",
    "\n",
    "data['last_review'] = pd.to_datetime(data['last_review'], errors='coerce')\n",
    "\n",
    "\n",
    "\n",
    "# Check if 'calendar_updated' is a column with dates or needs to be dropped\n",
    "\n",
    "calendar_updated_unique_values = data['calendar_updated'].unique()\n",
    "\n",
    "# If all values are NaN, we assume it's not useful and could be dropped\n",
    "\n",
    "if len(calendar_updated_unique_values) == 1 and pd.isna(calendar_updated_unique_values[0]):\n",
    "\n",
    "    data.drop('calendar_updated', axis=1, inplace=True)\n"
   ],
   "metadata": {
    "collapsed": false,
    "ExecuteTime": {
     "end_time": "2023-12-17T23:15:00.681673400Z",
     "start_time": "2023-12-17T23:15:00.418638700Z"
    }
   },
   "id": "cd266eb2ec15bfe"
  }
 ],
 "metadata": {
  "kernelspec": {
   "display_name": "Python 3",
   "language": "python",
   "name": "python3"
  },
  "language_info": {
   "codemirror_mode": {
    "name": "ipython",
    "version": 2
   },
   "file_extension": ".py",
   "mimetype": "text/x-python",
   "name": "python",
   "nbconvert_exporter": "python",
   "pygments_lexer": "ipython2",
   "version": "2.7.6"
  }
 },
 "nbformat": 4,
 "nbformat_minor": 5
}
